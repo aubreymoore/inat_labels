{
 "cells": [
  {
   "cell_type": "markdown",
   "id": "ae135a51",
   "metadata": {},
   "source": [
    "* download Insect of Micronesia records since 2021-08-01\n",
    "* get list of unique GBIF taxon ids\n",
    "* get GBIF occurrence records for each taxon id\n",
    "\n",
    "Run using the Python 3 kernel."
   ]
  },
  {
   "cell_type": "code",
   "execution_count": 1,
   "id": "ea1b8393",
   "metadata": {},
   "outputs": [],
   "source": [
    "from pygbif import occurrences as occ\n",
    "from pygbif import species\n",
    "import pandas as pd\n",
    "import pprint"
   ]
  },
  {
   "cell_type": "code",
   "execution_count": 2,
   "id": "e51f948c-25a8-4300-ace1-87d560c7783f",
   "metadata": {},
   "outputs": [
    {
     "name": "stdout",
     "output_type": "stream",
     "text": [
      "CPU times: user 2 µs, sys: 1 µs, total: 3 µs\n",
      "Wall time: 4.05 µs\n"
     ]
    }
   ],
   "source": [
    "%%time\n",
    "\n",
    "def get_gbif_taxa(taxon_list):\n",
    "    \"\"\"\n",
    "    Returns a dataframe containing a record for each taxon in taxon_list\n",
    "    \"\"\"\n",
    "    mylist = []\n",
    "    for taxon in taxon_list:\n",
    "        mylist.append(species.name_backbone(name=taxon))\n",
    "    return pd.DataFrame.from_dict(mylist)\n",
    "\n",
    "# get_gbif_taxa(taxon_list)"
   ]
  },
  {
   "cell_type": "code",
   "execution_count": 3,
   "id": "6ff2938e-a1d2-4ed3-8a88-f42bdeebfd73",
   "metadata": {},
   "outputs": [],
   "source": [
    "INSECTS_OF_MICRONESIA_CSV = 'observations-201397.csv'"
   ]
  },
  {
   "cell_type": "code",
   "execution_count": 4,
   "id": "ef737345",
   "metadata": {},
   "outputs": [],
   "source": [
    "def get_inat_count(data):\n",
    "    inat_count = 0\n",
    "    for i, x in enumerate(data['results']):\n",
    "        references = x.get('references', '')\n",
    "        if 'inaturalist' in references:\n",
    "            inat_count += 1\n",
    "        #print(i+1, references)\n",
    "    return inat_count"
   ]
  },
  {
   "cell_type": "code",
   "execution_count": 5,
   "id": "d03afa3a",
   "metadata": {},
   "outputs": [],
   "source": [
    "def get_gbif_count(df_gbif_taxa):\n",
    "    mylist = []\n",
    "    for i, r in df_gbif_taxa.iterrows():\n",
    "        data = occ.search(country='GU', scientificName=r.scientificName, limit=10000)\n",
    "        if data['count'] > 0:\n",
    "            taxon_rank = data['results'][0].get('taxonRank','')\n",
    "        else:\n",
    "            taxon_rank = ''\n",
    "        mydict = {\n",
    "            'taxon': r.scientificName,\n",
    "            'taxon_rank': taxon_rank,\n",
    "            'total_gbif_records': data['count'],\n",
    "            'gbif_records_from_inat': get_inat_count(data)}\n",
    "        mylist.append(mydict)\n",
    "    df = pd.DataFrame.from_dict(mylist)\n",
    "    return df"
   ]
  },
  {
   "cell_type": "code",
   "execution_count": 6,
   "id": "da9b8ad5-0914-4a9e-86d1-be3e4660adea",
   "metadata": {},
   "outputs": [
    {
     "name": "stdout",
     "output_type": "stream",
     "text": [
      "CPU times: user 2 µs, sys: 1 µs, total: 3 µs\n",
      "Wall time: 3.58 µs\n"
     ]
    }
   ],
   "source": [
    "%%time\n",
    "\n",
    "def get_gbif_gu_occ(df_gbif_taxa):\n",
    "    \"\"\"\n",
    "    Returns a dataframe containing all Guam GBIF occurrence records for each taxon in df_gbif_taxa\n",
    "    \"\"\"\n",
    "    mylist = []\n",
    "    for i, r in df_gbif_taxa.iterrows():\n",
    "#         print(r.scientificName)\n",
    "        data = occ.search(country='GU', scientificName=r.scientificName, limit=10000)\n",
    "        if data['count'] > 0:\n",
    "            mylist.extend(data['results'])\n",
    "            \n",
    "    # Remove child dicts\n",
    "    \n",
    "    for item in mylist:\n",
    "        del item['extensions']\n",
    "        del item['facts']\n",
    "        del item['gadm']\n",
    "        del item['identifiedByIDs']\n",
    "        del item['identifiers']\n",
    "        del item['issues']\n",
    "        del item['media']\n",
    "        del item['recordedByIDs']\n",
    "        del item['relations']\n",
    "       \n",
    "    return pd.DataFrame.from_dict(mylist)    \n",
    "\n",
    "# df_gbif_gu_occ = get_gbif_gu_occ(df_gbif_taxa[:10])\n",
    "# df_gbif_gu_occ"
   ]
  },
  {
   "cell_type": "code",
   "execution_count": 8,
   "id": "f60c390e-70ca-4f64-a262-c849f21aa1a4",
   "metadata": {},
   "outputs": [
    {
     "name": "stdout",
     "output_type": "stream",
     "text": [
      "creating df_iom\n",
      "Selecting first 10 rows of taxon_list for testing.\n",
      "creating df_gbif_taxa\n",
      "creating df_gbif_gu_occ\n",
      "FINISHED\n",
      "CPU times: user 596 ms, sys: 35.1 ms, total: 631 ms\n",
      "Wall time: 33 s\n"
     ]
    }
   ],
   "source": [
    "%%time\n",
    "\n",
    "# Main\n",
    "\n",
    "print('creating df_iom')\n",
    "df_iom = pd.read_csv(INSECTS_OF_MICRONESIA_CSV)\n",
    "\n",
    "taxon_list = df_iom.scientific_name.tolist()\n",
    "taxon_list = sorted(list(set(taxon_list)))\n",
    "\n",
    "print('Selecting first 10 rows of taxon_list for testing.')\n",
    "taxon_list = taxon_list[:10]\n",
    "\n",
    "print('creating df_gbif_taxa')\n",
    "df_gbif_taxa = get_gbif_taxa(taxon_list)\n",
    "\n",
    "print('creating df_gbif_gu_occ')\n",
    "df_gbif_gu_occ = get_gbif_gu_occ(df_gbif_taxa)\n",
    "\n",
    "print('FINISHED')\n",
    "\n",
    "# df_gbif_count = get_gbif_count(df_gbif_taxa)\n",
    "# df_gbif_count"
   ]
  },
  {
   "cell_type": "raw",
   "id": "f3ac1666-2eef-4b2e-becc-faba1e3ced53",
   "metadata": {},
   "source": [
    "df_gbif_gu_occ.groupby('scientificName')[['key']].count()"
   ]
  },
  {
   "cell_type": "raw",
   "id": "c9c1b275-6c36-4c7b-877f-a6fc6b92e9d8",
   "metadata": {},
   "source": [
    "#df_gbif_gu_occ = df_gbif_gu_occ['references'].astype(str)\n",
    "df_gbif_gu_occ['references'].str.contains('iNaturalist')\n",
    "\n",
    "#df_gbif_gu_occ['iNaturalist' in df_gbif_gu_occ.references].groupby('scientificName')[['key']].count()"
   ]
  },
  {
   "cell_type": "raw",
   "id": "833105b2-5860-41cb-be10-a56c3ba65394",
   "metadata": {},
   "source": [
    "df_gbif_count['suspect_reason'] = 'none'\n",
    "for i, r in df_gbif_count.iterrows():        \n",
    "    if r.total_gbif_records == 0:\n",
    "        df.at['C', 'x'] = 10\n",
    "        df_gbif_count.at[i, 'suspect_reason'] = 'GBIF has no previous records'\n",
    "    else:\n",
    "        if r.gbif_records_from_inat == r.total_gbif_records:\n",
    "            df_gbif_count.at[i, 'suspect_reason'] = 'All previous GBIF records come from iNat'\n",
    "df_gbif_count[df_gbif_count.suspect_reason != 'none']"
   ]
  },
  {
   "cell_type": "raw",
   "id": "fcf8b9b5-44ab-4248-beb6-1576a12372b5",
   "metadata": {},
   "source": [
    "df_gbif_count['suspect_reason'] = 'none'\n",
    "df_gbif_count"
   ]
  },
  {
   "cell_type": "raw",
   "id": "1e619209-e130-42fc-b69e-2d0c8aa04714",
   "metadata": {},
   "source": [
    "data = occ.search(country='GU',scientificName='Apis mellifera', limit=10000)"
   ]
  },
  {
   "cell_type": "raw",
   "id": "8aee8723-31f2-4552-94a5-4860fdbcb546",
   "metadata": {},
   "source": [
    "data['results'][0].get('taxonRank','')"
   ]
  }
 ],
 "metadata": {
  "kernelspec": {
   "display_name": "Python 3",
   "language": "python",
   "name": "python3"
  },
  "language_info": {
   "codemirror_mode": {
    "name": "ipython",
    "version": 3
   },
   "file_extension": ".py",
   "mimetype": "text/x-python",
   "name": "python",
   "nbconvert_exporter": "python",
   "pygments_lexer": "ipython3",
   "version": "3.8.8"
  }
 },
 "nbformat": 4,
 "nbformat_minor": 5
}
