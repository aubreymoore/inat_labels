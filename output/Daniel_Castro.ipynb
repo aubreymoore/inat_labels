{
 "cells": [
  {
   "cell_type": "code",
   "execution_count": 1,
   "id": "527f1b48",
   "metadata": {
    "execution": {
     "iopub.execute_input": "2021-11-28T10:32:39.847294Z",
     "iopub.status.busy": "2021-11-28T10:32:39.846958Z",
     "iopub.status.idle": "2021-11-28T10:32:39.848703Z",
     "shell.execute_reply": "2021-11-28T10:32:39.848346Z"
    },
    "papermill": {
     "duration": 0.010619,
     "end_time": "2021-11-28T10:32:39.848788",
     "exception": false,
     "start_time": "2021-11-28T10:32:39.838169",
     "status": "completed"
    },
    "tags": [
     "parameters"
    ]
   },
   "outputs": [],
   "source": [
    "# This cell is tagged \"parameters\" to enable running this notebook from the command line with papermill\n",
    "# Example usage:\n",
    "# papermill -p USER aubreymoore -p USER_FULL_NAME 'Aubrey Moore' inat_labels.ipynb aubreymoore.ipynb\n",
    "\n",
    "INSECTS_OF_MICRONESIA_CSV = 'observations-194224.csv'\n",
    "\n",
    "FONT_SIZE = 3.5    # points\n",
    "FONT = 'helvetica'\n",
    "YMIN = 1           # inches\n",
    "LABEL_WIDTH = 1.0  # inches\n",
    "LABEL_HEIGHT = 1.0 # inches\n",
    "XMIN = 0.5         # inches\n",
    "\n",
    "NROWS = 9\n",
    "NCOLS = 7\n",
    "\n",
    "USER = 'lauracaser'\n",
    "USER_FULL_NAME = 'Laura Caser'\n",
    "\n",
    "DESC_MAX_CHARS = 100\n",
    "PRINT = False"
   ]
  },
  {
   "cell_type": "code",
   "execution_count": 2,
   "id": "74ae9a9f",
   "metadata": {
    "execution": {
     "iopub.execute_input": "2021-11-28T10:32:39.858916Z",
     "iopub.status.busy": "2021-11-28T10:32:39.858556Z",
     "iopub.status.idle": "2021-11-28T10:32:39.860285Z",
     "shell.execute_reply": "2021-11-28T10:32:39.859977Z"
    },
    "papermill": {
     "duration": 0.007127,
     "end_time": "2021-11-28T10:32:39.860383",
     "exception": false,
     "start_time": "2021-11-28T10:32:39.853256",
     "status": "completed"
    },
    "tags": [
     "injected-parameters"
    ]
   },
   "outputs": [],
   "source": [
    "# Parameters\n",
    "INSECTS_OF_MICRONESIA_CSV = \"observations-201486.csv\"\n",
    "USER = \"castrod\"\n",
    "USER_FULL_NAME = \"Daniel Castro\"\n",
    "PRINT = \"TRUE\"\n"
   ]
  },
  {
   "cell_type": "code",
   "execution_count": 3,
   "id": "fa4a86e7",
   "metadata": {
    "execution": {
     "iopub.execute_input": "2021-11-28T10:32:39.870252Z",
     "iopub.status.busy": "2021-11-28T10:32:39.869893Z",
     "iopub.status.idle": "2021-11-28T10:32:40.040624Z",
     "shell.execute_reply": "2021-11-28T10:32:40.040324Z"
    },
    "papermill": {
     "duration": 0.176402,
     "end_time": "2021-11-28T10:32:40.040716",
     "exception": false,
     "start_time": "2021-11-28T10:32:39.864314",
     "status": "completed"
    },
    "tags": []
   },
   "outputs": [],
   "source": [
    "import subprocess\n",
    "import sqlite3\n",
    "from fpdf import FPDF\n",
    "import qrcode\n",
    "from datetime import datetime\n",
    "import os\n",
    "import pandas as pd"
   ]
  },
  {
   "cell_type": "code",
   "execution_count": 4,
   "id": "9d03dfb3",
   "metadata": {
    "execution": {
     "iopub.execute_input": "2021-11-28T10:32:40.052520Z",
     "iopub.status.busy": "2021-11-28T10:32:40.051917Z",
     "iopub.status.idle": "2021-11-28T10:32:40.053405Z",
     "shell.execute_reply": "2021-11-28T10:32:40.053669Z"
    },
    "papermill": {
     "duration": 0.008712,
     "end_time": "2021-11-28T10:32:40.053788",
     "exception": false,
     "start_time": "2021-11-28T10:32:40.045076",
     "status": "completed"
    },
    "tags": []
   },
   "outputs": [],
   "source": [
    "def add_taxonomy(obs_dict):\n",
    "    ancestry = obs_dict['ancestry'].split('/')\n",
    "    ancestry.append(obs_dict['taxon'])\n",
    "    for t in ancestry:\n",
    "        sql = f'SELECT rank, name FROM taxons WHERE id == {t}'\n",
    "        cursor = conn.execute(sql)\n",
    "        for row in cursor:\n",
    "            obs_dict[row[0]] = row[1]"
   ]
  },
  {
   "cell_type": "code",
   "execution_count": 5,
   "id": "664e2975",
   "metadata": {
    "execution": {
     "iopub.execute_input": "2021-11-28T10:32:40.064226Z",
     "iopub.status.busy": "2021-11-28T10:32:40.063758Z",
     "iopub.status.idle": "2021-11-28T10:32:40.065398Z",
     "shell.execute_reply": "2021-11-28T10:32:40.065075Z"
    },
    "papermill": {
     "duration": 0.008248,
     "end_time": "2021-11-28T10:32:40.065484",
     "exception": false,
     "start_time": "2021-11-28T10:32:40.057236",
     "status": "completed"
    },
    "tags": []
   },
   "outputs": [],
   "source": [
    "def get_label_data():\n",
    "    data_list = []\n",
    "    sql = \"\"\"\n",
    "    SELECT observations.id, name, rank, observed_on, taxon, place_guess, longitude, latitude, description, project_ids, taxons.ancestry\n",
    "    FROM observations, taxons\n",
    "    WHERE \n",
    "       taxons.id == taxon\n",
    "       AND project_ids LIKE '%1627%'\n",
    "       AND observed_on > '2021-08-01';\n",
    "    \"\"\"\n",
    "    cursor = conn.execute(sql)\n",
    "    for r in cursor:\n",
    "        obs_dict = dict(r)\n",
    "        add_taxonomy(obs_dict)\n",
    "        for key in ['ancestry', 'rank', 'name', 'project_ids', 'taxon']:\n",
    "            del obs_dict[key]\n",
    "        data_list.append(obs_dict)        \n",
    "    return data_list\n",
    "\n",
    "# get_label_data()"
   ]
  },
  {
   "cell_type": "code",
   "execution_count": 6,
   "id": "a7e8793e",
   "metadata": {
    "execution": {
     "iopub.execute_input": "2021-11-28T10:32:40.081487Z",
     "iopub.status.busy": "2021-11-28T10:32:40.081144Z",
     "iopub.status.idle": "2021-11-28T10:32:40.082880Z",
     "shell.execute_reply": "2021-11-28T10:32:40.082603Z"
    },
    "papermill": {
     "duration": 0.013994,
     "end_time": "2021-11-28T10:32:40.082964",
     "exception": false,
     "start_time": "2021-11-28T10:32:40.068970",
     "status": "completed"
    },
    "tags": []
   },
   "outputs": [],
   "source": [
    "class PDF(FPDF):\n",
    "    \n",
    "    def add_label(self, x, y, obs):\n",
    "        self.set_xy(x, y)\n",
    "        self.multi_cell(txt=f'iNAT {obs[\"id\"]}', w=LABEL_WIDTH, ln=2, align='L')\n",
    "        #print(f'1:{self.get_x()} {self.get_y()}')\n",
    "        self.multi_cell(txt=obs['place_guess'], w=LABEL_WIDTH, ln=2, align='L')\n",
    "        #print(f'2:{self.get_x()} {self.get_y()}')\n",
    "        \n",
    "        lat = float(obs['latitude'])\n",
    "        lat = round(lat,6)\n",
    "        if (lat > 0):\n",
    "            lat_suffix = 'N'\n",
    "        else:\n",
    "            lat_suffix = 'S'       \n",
    "        \n",
    "        lon = float(obs['longitude'])\n",
    "        lon = round(lon, 6)\n",
    "        if (lon > 0):\n",
    "            lon_suffix = 'E'\n",
    "        else:\n",
    "            lon_suffix = 'W'\n",
    "        txt = f'{lat}{lat_suffix} {lon}{lon_suffix}' \n",
    "        self.multi_cell(txt=txt, w=LABEL_WIDTH, ln=2, align='L')\n",
    "\n",
    "        txt = obs['description']\n",
    "        if isinstance(txt, str) and (len(txt) > 1):\n",
    "            if len(txt) > DESC_MAX_CHARS:\n",
    "                txt = f'{txt[0:DESC_MAX_CHARS]}...'\n",
    "            self.multi_cell(txt=txt, w=LABEL_WIDTH, ln=2, align='L')\n",
    "       \n",
    "        txt = f'Col. {USER_FULL_NAME} {obs[\"observed_on\"]}'\n",
    "        self.multi_cell(txt=txt, w=LABEL_WIDTH, ln=2, align='L')\n",
    "        \n",
    "        self.multi_cell(txt='---', w=LABEL_WIDTH, ln=2, align='L')\n",
    "        \n",
    "        self.multi_cell(txt=f'iNAT {obs[\"id\"]}', w=LABEL_WIDTH, ln=2, align='L')\n",
    "        \n",
    "        if obs.get('taxon_order_name'):\n",
    "            txt = obs['taxon_order_name']\n",
    "            if isinstance(txt, str):\n",
    "                self.multi_cell(txt=txt.upper(), w=LABEL_WIDTH, ln=2, align='L')\n",
    "            \n",
    "        if obs.get('taxon_family_name'):\n",
    "            txt = obs[\"taxon_family_name\"]  \n",
    "            if isinstance(txt, str):\n",
    "                txt = f'   {txt.upper()}'\n",
    "                self.multi_cell(txt=txt, w=LABEL_WIDTH, ln=2, align='L')\n",
    "            \n",
    "        if obs.get('taxon_species_name'):   # species binomial available\n",
    "            txt = obs.get('taxon_species_name')\n",
    "            if isinstance(txt, str):\n",
    "                txt = f'     {txt}'\n",
    "                self.set_font(style=\"I\")\n",
    "                self.multi_cell(txt=txt, w=LABEL_WIDTH, ln=2, align='L')\n",
    "                self.set_font(style=\"\")\n",
    "        else:\n",
    "            if obs.get('taxon_genus_name'):   # only genus available\n",
    "                txt = obs['taxon_genus_name']\n",
    "                if isinstance(txt, str):\n",
    "                    txt = f'     {obs[\"genus\"]}'\n",
    "                    self.set_font(style=\"I\")\n",
    "                    self.multi_cell(txt=txt, w=LABEL_WIDTH, ln=2, align='L')\n",
    "                    self.set_font(style=\"\")\n",
    "\n",
    "        # Check on this.\n",
    "        txt = f'Det. {USER_FULL_NAME} {obs[\"observed_on\"]}'\n",
    "        self.multi_cell(txt=txt, w=LABEL_WIDTH, ln=2, align='L')\n",
    "        \n",
    "        # barcode\n",
    "        \n",
    "        self.multi_cell(txt='---', w=LABEL_WIDTH, ln=2, align='L')\n",
    "        self.multi_cell(txt=f'iNAT {obs[\"id\"]}', w=LABEL_WIDTH, ln=2, align='L')\n",
    "        url = f\"https://www.inaturalist.org/observations/{obs['id']}\"\n",
    "        img = qrcode.make(url)\n",
    "        self.image(img.get_image(), w=0.25)"
   ]
  },
  {
   "cell_type": "code",
   "execution_count": 7,
   "id": "053c8559",
   "metadata": {
    "execution": {
     "iopub.execute_input": "2021-11-28T10:32:40.093747Z",
     "iopub.status.busy": "2021-11-28T10:32:40.093423Z",
     "iopub.status.idle": "2021-11-28T10:32:40.095140Z",
     "shell.execute_reply": "2021-11-28T10:32:40.094824Z"
    },
    "papermill": {
     "duration": 0.008776,
     "end_time": "2021-11-28T10:32:40.095221",
     "exception": false,
     "start_time": "2021-11-28T10:32:40.086445",
     "status": "completed"
    },
    "tags": []
   },
   "outputs": [],
   "source": [
    "def generate_labels():\n",
    "\n",
    "    pdf = PDF(orientation=\"P\", unit=\"in\", format=\"Letter\")\n",
    "    pdf.set_doc_option('core_fonts_encoding', 'utf-8') #NEW\n",
    "    pdf.set_font(family=FONT, size=FONT_SIZE)\n",
    "    \n",
    "    n = len(data_list)\n",
    "    i = 0\n",
    "    pages = 1 + n // (NROWS * NCOLS)\n",
    "    for p in range(pages):\n",
    "        print(f'Adding page {p}')\n",
    "        pdf.add_page()\n",
    "        txt=f'{USER_FULL_NAME}          Page {p+1} of {pages}          {datetime.now()}'\n",
    "        pdf.set_font(size=14)\n",
    "        pdf.multi_cell(txt=txt, w = 6)\n",
    "        pdf.set_font(size=FONT_SIZE)\n",
    "        r = 0\n",
    "        c = 0\n",
    "        for r in range(NROWS):\n",
    "            y = YMIN + r * LABEL_HEIGHT\n",
    "            for c in range(NCOLS):\n",
    "                x = XMIN + c * LABEL_WIDTH\n",
    "#                 print(f'{i} {p} {r} {c} {x} {y}')\n",
    "#                 print(data_list[i])\n",
    "                pdf.add_label(x, y, data_list[i])\n",
    "                i += 1\n",
    "                if i == n:\n",
    "                    print(f\"writing {pdf_filename}\")\n",
    "                    pdf.output(pdf_filename)\n",
    "                    return\n",
    "\n",
    "# generate_labels()"
   ]
  },
  {
   "cell_type": "code",
   "execution_count": 8,
   "id": "a5fb7366",
   "metadata": {
    "execution": {
     "iopub.execute_input": "2021-11-28T10:32:40.105471Z",
     "iopub.status.busy": "2021-11-28T10:32:40.104671Z",
     "iopub.status.idle": "2021-11-28T10:32:40.376091Z",
     "shell.execute_reply": "2021-11-28T10:32:40.375734Z"
    },
    "papermill": {
     "duration": 0.277504,
     "end_time": "2021-11-28T10:32:40.376178",
     "exception": false,
     "start_time": "2021-11-28T10:32:40.098674",
     "status": "completed"
    },
    "tags": []
   },
   "outputs": [
    {
     "name": "stdout",
     "output_type": "stream",
     "text": [
      "Adding page 0\n"
     ]
    },
    {
     "name": "stdout",
     "output_type": "stream",
     "text": [
      "writing output/Daniel_Castro.pdf\n",
      "FINISHED\n"
     ]
    }
   ],
   "source": [
    "# MAIN\n",
    "\n",
    "# Make sure there is an output directory\n",
    "\n",
    "if not os.path.exists('output'):\n",
    "    os.makedirs('output')\n",
    "\n",
    "df = pd.read_csv(INSECTS_OF_MICRONESIA_CSV)\n",
    "df = df[df['user_login']==USER]\n",
    "data_list = df.to_dict(orient='records')\n",
    "\n",
    "# Generate labels\n",
    "\n",
    "pdf_filename = f\"output/{USER_FULL_NAME.replace(' ', '_')}.pdf\"\n",
    "generate_labels()\n",
    "\n",
    "if PRINT:\n",
    "    subprocess.run(['lpr', '-P', 'HP-LaserJet-P1006', pdf_filename])\n",
    "\n",
    "print('FINISHED')"
   ]
  }
 ],
 "metadata": {
  "kernelspec": {
   "display_name": "Python 3",
   "language": "python",
   "name": "python3"
  },
  "language_info": {
   "codemirror_mode": {
    "name": "ipython",
    "version": 3
   },
   "file_extension": ".py",
   "mimetype": "text/x-python",
   "name": "python",
   "nbconvert_exporter": "python",
   "pygments_lexer": "ipython3",
   "version": "3.8.8"
  },
  "papermill": {
   "default_parameters": {},
   "duration": 1.398667,
   "end_time": "2021-11-28T10:32:40.688209",
   "environment_variables": {},
   "exception": null,
   "input_path": "inat_labels1.ipynb",
   "output_path": "output/Daniel_Castro.ipynb",
   "parameters": {
    "INSECTS_OF_MICRONESIA_CSV": "observations-201486.csv",
    "PRINT": "TRUE",
    "USER": "castrod",
    "USER_FULL_NAME": "Daniel Castro"
   },
   "start_time": "2021-11-28T10:32:39.289542",
   "version": "2.3.3"
  }
 },
 "nbformat": 4,
 "nbformat_minor": 5
}