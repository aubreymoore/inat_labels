{
 "cells": [
  {
   "cell_type": "code",
   "execution_count": 1,
   "id": "527f1b48",
   "metadata": {
    "execution": {
     "iopub.execute_input": "2021-11-28T10:32:46.437147Z",
     "iopub.status.busy": "2021-11-28T10:32:46.435148Z",
     "iopub.status.idle": "2021-11-28T10:32:46.441698Z",
     "shell.execute_reply": "2021-11-28T10:32:46.440045Z"
    },
    "papermill": {
     "duration": 0.035912,
     "end_time": "2021-11-28T10:32:46.442089",
     "exception": false,
     "start_time": "2021-11-28T10:32:46.406177",
     "status": "completed"
    },
    "tags": [
     "parameters"
    ]
   },
   "outputs": [],
   "source": [
    "# This cell is tagged \"parameters\" to enable running this notebook from the command line with papermill\n",
    "# Example usage:\n",
    "# papermill -p USER aubreymoore -p USER_FULL_NAME 'Aubrey Moore' inat_labels.ipynb aubreymoore.ipynb\n",
    "\n",
    "INSECTS_OF_MICRONESIA_CSV = 'observations-194224.csv'\n",
    "\n",
    "FONT_SIZE = 3.5    # points\n",
    "FONT = 'helvetica'\n",
    "YMIN = 1           # inches\n",
    "LABEL_WIDTH = 1.0  # inches\n",
    "LABEL_HEIGHT = 1.0 # inches\n",
    "XMIN = 0.5         # inches\n",
    "\n",
    "NROWS = 9\n",
    "NCOLS = 7\n",
    "\n",
    "USER = 'lauracaser'\n",
    "USER_FULL_NAME = 'Laura Caser'\n",
    "\n",
    "DESC_MAX_CHARS = 100\n",
    "PRINT = False"
   ]
  },
  {
   "cell_type": "code",
   "execution_count": 2,
   "id": "0ace0656",
   "metadata": {
    "execution": {
     "iopub.execute_input": "2021-11-28T10:32:46.470703Z",
     "iopub.status.busy": "2021-11-28T10:32:46.470096Z",
     "iopub.status.idle": "2021-11-28T10:32:46.472096Z",
     "shell.execute_reply": "2021-11-28T10:32:46.472458Z"
    },
    "papermill": {
     "duration": 0.013521,
     "end_time": "2021-11-28T10:32:46.472598",
     "exception": false,
     "start_time": "2021-11-28T10:32:46.459077",
     "status": "completed"
    },
    "tags": [
     "injected-parameters"
    ]
   },
   "outputs": [],
   "source": [
    "# Parameters\n",
    "INSECTS_OF_MICRONESIA_CSV = \"observations-201486.csv\"\n",
    "USER = \"derpyinsight\"\n",
    "USER_FULL_NAME = \"Kyle Quiambao\"\n",
    "PRINT = \"TRUE\"\n"
   ]
  },
  {
   "cell_type": "code",
   "execution_count": 3,
   "id": "fa4a86e7",
   "metadata": {
    "execution": {
     "iopub.execute_input": "2021-11-28T10:32:46.481925Z",
     "iopub.status.busy": "2021-11-28T10:32:46.481613Z",
     "iopub.status.idle": "2021-11-28T10:32:46.650433Z",
     "shell.execute_reply": "2021-11-28T10:32:46.650085Z"
    },
    "papermill": {
     "duration": 0.174595,
     "end_time": "2021-11-28T10:32:46.650521",
     "exception": false,
     "start_time": "2021-11-28T10:32:46.475926",
     "status": "completed"
    },
    "tags": []
   },
   "outputs": [],
   "source": [
    "import subprocess\n",
    "import sqlite3\n",
    "from fpdf import FPDF\n",
    "import qrcode\n",
    "from datetime import datetime\n",
    "import os\n",
    "import pandas as pd"
   ]
  },
  {
   "cell_type": "code",
   "execution_count": 4,
   "id": "9d03dfb3",
   "metadata": {
    "execution": {
     "iopub.execute_input": "2021-11-28T10:32:46.662057Z",
     "iopub.status.busy": "2021-11-28T10:32:46.661673Z",
     "iopub.status.idle": "2021-11-28T10:32:46.663499Z",
     "shell.execute_reply": "2021-11-28T10:32:46.663748Z"
    },
    "papermill": {
     "duration": 0.009143,
     "end_time": "2021-11-28T10:32:46.663880",
     "exception": false,
     "start_time": "2021-11-28T10:32:46.654737",
     "status": "completed"
    },
    "tags": []
   },
   "outputs": [],
   "source": [
    "def add_taxonomy(obs_dict):\n",
    "    ancestry = obs_dict['ancestry'].split('/')\n",
    "    ancestry.append(obs_dict['taxon'])\n",
    "    for t in ancestry:\n",
    "        sql = f'SELECT rank, name FROM taxons WHERE id == {t}'\n",
    "        cursor = conn.execute(sql)\n",
    "        for row in cursor:\n",
    "            obs_dict[row[0]] = row[1]"
   ]
  },
  {
   "cell_type": "code",
   "execution_count": 5,
   "id": "664e2975",
   "metadata": {
    "execution": {
     "iopub.execute_input": "2021-11-28T10:32:46.673668Z",
     "iopub.status.busy": "2021-11-28T10:32:46.673348Z",
     "iopub.status.idle": "2021-11-28T10:32:46.675225Z",
     "shell.execute_reply": "2021-11-28T10:32:46.674906Z"
    },
    "papermill": {
     "duration": 0.007904,
     "end_time": "2021-11-28T10:32:46.675306",
     "exception": false,
     "start_time": "2021-11-28T10:32:46.667402",
     "status": "completed"
    },
    "tags": []
   },
   "outputs": [],
   "source": [
    "def get_label_data():\n",
    "    data_list = []\n",
    "    sql = \"\"\"\n",
    "    SELECT observations.id, name, rank, observed_on, taxon, place_guess, longitude, latitude, description, project_ids, taxons.ancestry\n",
    "    FROM observations, taxons\n",
    "    WHERE \n",
    "       taxons.id == taxon\n",
    "       AND project_ids LIKE '%1627%'\n",
    "       AND observed_on > '2021-08-01';\n",
    "    \"\"\"\n",
    "    cursor = conn.execute(sql)\n",
    "    for r in cursor:\n",
    "        obs_dict = dict(r)\n",
    "        add_taxonomy(obs_dict)\n",
    "        for key in ['ancestry', 'rank', 'name', 'project_ids', 'taxon']:\n",
    "            del obs_dict[key]\n",
    "        data_list.append(obs_dict)        \n",
    "    return data_list\n",
    "\n",
    "# get_label_data()"
   ]
  },
  {
   "cell_type": "code",
   "execution_count": 6,
   "id": "a7e8793e",
   "metadata": {
    "execution": {
     "iopub.execute_input": "2021-11-28T10:32:46.690674Z",
     "iopub.status.busy": "2021-11-28T10:32:46.690332Z",
     "iopub.status.idle": "2021-11-28T10:32:46.691993Z",
     "shell.execute_reply": "2021-11-28T10:32:46.691673Z"
    },
    "papermill": {
     "duration": 0.013309,
     "end_time": "2021-11-28T10:32:46.692077",
     "exception": false,
     "start_time": "2021-11-28T10:32:46.678768",
     "status": "completed"
    },
    "tags": []
   },
   "outputs": [],
   "source": [
    "class PDF(FPDF):\n",
    "    \n",
    "    def add_label(self, x, y, obs):\n",
    "        self.set_xy(x, y)\n",
    "        self.multi_cell(txt=f'iNAT {obs[\"id\"]}', w=LABEL_WIDTH, ln=2, align='L')\n",
    "        #print(f'1:{self.get_x()} {self.get_y()}')\n",
    "        self.multi_cell(txt=obs['place_guess'], w=LABEL_WIDTH, ln=2, align='L')\n",
    "        #print(f'2:{self.get_x()} {self.get_y()}')\n",
    "        \n",
    "        lat = float(obs['latitude'])\n",
    "        lat = round(lat,6)\n",
    "        if (lat > 0):\n",
    "            lat_suffix = 'N'\n",
    "        else:\n",
    "            lat_suffix = 'S'       \n",
    "        \n",
    "        lon = float(obs['longitude'])\n",
    "        lon = round(lon, 6)\n",
    "        if (lon > 0):\n",
    "            lon_suffix = 'E'\n",
    "        else:\n",
    "            lon_suffix = 'W'\n",
    "        txt = f'{lat}{lat_suffix} {lon}{lon_suffix}' \n",
    "        self.multi_cell(txt=txt, w=LABEL_WIDTH, ln=2, align='L')\n",
    "\n",
    "        txt = obs['description']\n",
    "        if isinstance(txt, str) and (len(txt) > 1):\n",
    "            if len(txt) > DESC_MAX_CHARS:\n",
    "                txt = f'{txt[0:DESC_MAX_CHARS]}...'\n",
    "            self.multi_cell(txt=txt, w=LABEL_WIDTH, ln=2, align='L')\n",
    "       \n",
    "        txt = f'Col. {USER_FULL_NAME} {obs[\"observed_on\"]}'\n",
    "        self.multi_cell(txt=txt, w=LABEL_WIDTH, ln=2, align='L')\n",
    "        \n",
    "        self.multi_cell(txt='---', w=LABEL_WIDTH, ln=2, align='L')\n",
    "        \n",
    "        self.multi_cell(txt=f'iNAT {obs[\"id\"]}', w=LABEL_WIDTH, ln=2, align='L')\n",
    "        \n",
    "        if obs.get('taxon_order_name'):\n",
    "            txt = obs['taxon_order_name']\n",
    "            if isinstance(txt, str):\n",
    "                self.multi_cell(txt=txt.upper(), w=LABEL_WIDTH, ln=2, align='L')\n",
    "            \n",
    "        if obs.get('taxon_family_name'):\n",
    "            txt = obs[\"taxon_family_name\"]  \n",
    "            if isinstance(txt, str):\n",
    "                txt = f'   {txt.upper()}'\n",
    "                self.multi_cell(txt=txt, w=LABEL_WIDTH, ln=2, align='L')\n",
    "            \n",
    "        if obs.get('taxon_species_name'):   # species binomial available\n",
    "            txt = obs.get('taxon_species_name')\n",
    "            if isinstance(txt, str):\n",
    "                txt = f'     {txt}'\n",
    "                self.set_font(style=\"I\")\n",
    "                self.multi_cell(txt=txt, w=LABEL_WIDTH, ln=2, align='L')\n",
    "                self.set_font(style=\"\")\n",
    "        else:\n",
    "            if obs.get('taxon_genus_name'):   # only genus available\n",
    "                txt = obs['taxon_genus_name']\n",
    "                if isinstance(txt, str):\n",
    "                    txt = f'     {obs[\"genus\"]}'\n",
    "                    self.set_font(style=\"I\")\n",
    "                    self.multi_cell(txt=txt, w=LABEL_WIDTH, ln=2, align='L')\n",
    "                    self.set_font(style=\"\")\n",
    "\n",
    "        # Check on this.\n",
    "        txt = f'Det. {USER_FULL_NAME} {obs[\"observed_on\"]}'\n",
    "        self.multi_cell(txt=txt, w=LABEL_WIDTH, ln=2, align='L')\n",
    "        \n",
    "        # barcode\n",
    "        \n",
    "        self.multi_cell(txt='---', w=LABEL_WIDTH, ln=2, align='L')\n",
    "        self.multi_cell(txt=f'iNAT {obs[\"id\"]}', w=LABEL_WIDTH, ln=2, align='L')\n",
    "        url = f\"https://www.inaturalist.org/observations/{obs['id']}\"\n",
    "        img = qrcode.make(url)\n",
    "        self.image(img.get_image(), w=0.25)"
   ]
  },
  {
   "cell_type": "code",
   "execution_count": 7,
   "id": "053c8559",
   "metadata": {
    "execution": {
     "iopub.execute_input": "2021-11-28T10:32:46.703286Z",
     "iopub.status.busy": "2021-11-28T10:32:46.702949Z",
     "iopub.status.idle": "2021-11-28T10:32:46.704478Z",
     "shell.execute_reply": "2021-11-28T10:32:46.704147Z"
    },
    "papermill": {
     "duration": 0.008945,
     "end_time": "2021-11-28T10:32:46.704559",
     "exception": false,
     "start_time": "2021-11-28T10:32:46.695614",
     "status": "completed"
    },
    "tags": []
   },
   "outputs": [],
   "source": [
    "def generate_labels():\n",
    "\n",
    "    pdf = PDF(orientation=\"P\", unit=\"in\", format=\"Letter\")\n",
    "    pdf.set_doc_option('core_fonts_encoding', 'utf-8') #NEW\n",
    "    pdf.set_font(family=FONT, size=FONT_SIZE)\n",
    "    \n",
    "    n = len(data_list)\n",
    "    i = 0\n",
    "    pages = 1 + n // (NROWS * NCOLS)\n",
    "    for p in range(pages):\n",
    "        print(f'Adding page {p}')\n",
    "        pdf.add_page()\n",
    "        txt=f'{USER_FULL_NAME}          Page {p+1} of {pages}          {datetime.now()}'\n",
    "        pdf.set_font(size=14)\n",
    "        pdf.multi_cell(txt=txt, w = 6)\n",
    "        pdf.set_font(size=FONT_SIZE)\n",
    "        r = 0\n",
    "        c = 0\n",
    "        for r in range(NROWS):\n",
    "            y = YMIN + r * LABEL_HEIGHT\n",
    "            for c in range(NCOLS):\n",
    "                x = XMIN + c * LABEL_WIDTH\n",
    "#                 print(f'{i} {p} {r} {c} {x} {y}')\n",
    "#                 print(data_list[i])\n",
    "                pdf.add_label(x, y, data_list[i])\n",
    "                i += 1\n",
    "                if i == n:\n",
    "                    print(f\"writing {pdf_filename}\")\n",
    "                    pdf.output(pdf_filename)\n",
    "                    return\n",
    "\n",
    "# generate_labels()"
   ]
  },
  {
   "cell_type": "code",
   "execution_count": 8,
   "id": "a5fb7366",
   "metadata": {
    "execution": {
     "iopub.execute_input": "2021-11-28T10:32:46.715235Z",
     "iopub.status.busy": "2021-11-28T10:32:46.714901Z",
     "iopub.status.idle": "2021-11-28T10:32:47.363977Z",
     "shell.execute_reply": "2021-11-28T10:32:47.363703Z"
    },
    "papermill": {
     "duration": 0.656021,
     "end_time": "2021-11-28T10:32:47.364068",
     "exception": false,
     "start_time": "2021-11-28T10:32:46.708047",
     "status": "completed"
    },
    "tags": []
   },
   "outputs": [
    {
     "name": "stdout",
     "output_type": "stream",
     "text": [
      "Adding page 0\n"
     ]
    },
    {
     "name": "stdout",
     "output_type": "stream",
     "text": [
      "writing output/Kyle_Quiambao.pdf\n",
      "FINISHED\n"
     ]
    }
   ],
   "source": [
    "# MAIN\n",
    "\n",
    "# Make sure there is an output directory\n",
    "\n",
    "if not os.path.exists('output'):\n",
    "    os.makedirs('output')\n",
    "\n",
    "df = pd.read_csv(INSECTS_OF_MICRONESIA_CSV)\n",
    "df = df[df['user_login']==USER]\n",
    "data_list = df.to_dict(orient='records')\n",
    "\n",
    "# Generate labels\n",
    "\n",
    "pdf_filename = f\"output/{USER_FULL_NAME.replace(' ', '_')}.pdf\"\n",
    "generate_labels()\n",
    "\n",
    "if PRINT:\n",
    "    subprocess.run(['lpr', '-P', 'HP-LaserJet-P1006', pdf_filename])\n",
    "\n",
    "print('FINISHED')"
   ]
  }
 ],
 "metadata": {
  "kernelspec": {
   "display_name": "Python 3",
   "language": "python",
   "name": "python3"
  },
  "language_info": {
   "codemirror_mode": {
    "name": "ipython",
    "version": 3
   },
   "file_extension": ".py",
   "mimetype": "text/x-python",
   "name": "python",
   "nbconvert_exporter": "python",
   "pygments_lexer": "ipython3",
   "version": "3.8.8"
  },
  "papermill": {
   "default_parameters": {},
   "duration": 2.009744,
   "end_time": "2021-11-28T10:32:47.675827",
   "environment_variables": {},
   "exception": null,
   "input_path": "inat_labels1.ipynb",
   "output_path": "output/Kyle_Quiambao.ipynb",
   "parameters": {
    "INSECTS_OF_MICRONESIA_CSV": "observations-201486.csv",
    "PRINT": "TRUE",
    "USER": "derpyinsight",
    "USER_FULL_NAME": "Kyle Quiambao"
   },
   "start_time": "2021-11-28T10:32:45.666083",
   "version": "2.3.3"
  }
 },
 "nbformat": 4,
 "nbformat_minor": 5
}