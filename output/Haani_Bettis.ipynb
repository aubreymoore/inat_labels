{
 "cells": [
  {
   "cell_type": "code",
   "execution_count": 1,
   "id": "527f1b48",
   "metadata": {
    "execution": {
     "iopub.execute_input": "2021-11-28T10:32:32.164030Z",
     "iopub.status.busy": "2021-11-28T10:32:32.163698Z",
     "iopub.status.idle": "2021-11-28T10:32:32.165504Z",
     "shell.execute_reply": "2021-11-28T10:32:32.165143Z"
    },
    "papermill": {
     "duration": 0.012459,
     "end_time": "2021-11-28T10:32:32.165591",
     "exception": false,
     "start_time": "2021-11-28T10:32:32.153132",
     "status": "completed"
    },
    "tags": [
     "parameters"
    ]
   },
   "outputs": [],
   "source": [
    "# This cell is tagged \"parameters\" to enable running this notebook from the command line with papermill\n",
    "# Example usage:\n",
    "# papermill -p USER aubreymoore -p USER_FULL_NAME 'Aubrey Moore' inat_labels.ipynb aubreymoore.ipynb\n",
    "\n",
    "INSECTS_OF_MICRONESIA_CSV = 'observations-194224.csv'\n",
    "\n",
    "FONT_SIZE = 3.5    # points\n",
    "FONT = 'helvetica'\n",
    "YMIN = 1           # inches\n",
    "LABEL_WIDTH = 1.0  # inches\n",
    "LABEL_HEIGHT = 1.0 # inches\n",
    "XMIN = 0.5         # inches\n",
    "\n",
    "NROWS = 9\n",
    "NCOLS = 7\n",
    "\n",
    "USER = 'lauracaser'\n",
    "USER_FULL_NAME = 'Laura Caser'\n",
    "\n",
    "DESC_MAX_CHARS = 100\n",
    "PRINT = False"
   ]
  },
  {
   "cell_type": "code",
   "execution_count": 2,
   "id": "a2f4abb6",
   "metadata": {
    "execution": {
     "iopub.execute_input": "2021-11-28T10:32:32.175698Z",
     "iopub.status.busy": "2021-11-28T10:32:32.175338Z",
     "iopub.status.idle": "2021-11-28T10:32:32.177344Z",
     "shell.execute_reply": "2021-11-28T10:32:32.176964Z"
    },
    "papermill": {
     "duration": 0.007467,
     "end_time": "2021-11-28T10:32:32.177442",
     "exception": false,
     "start_time": "2021-11-28T10:32:32.169975",
     "status": "completed"
    },
    "tags": [
     "injected-parameters"
    ]
   },
   "outputs": [],
   "source": [
    "# Parameters\n",
    "INSECTS_OF_MICRONESIA_CSV = \"observations-201486.csv\"\n",
    "USER = \"haanibettis\"\n",
    "USER_FULL_NAME = \"Haani Bettis\"\n",
    "PRINT = \"TRUE\"\n"
   ]
  },
  {
   "cell_type": "code",
   "execution_count": 3,
   "id": "fa4a86e7",
   "metadata": {
    "execution": {
     "iopub.execute_input": "2021-11-28T10:32:32.187074Z",
     "iopub.status.busy": "2021-11-28T10:32:32.186722Z",
     "iopub.status.idle": "2021-11-28T10:32:32.358951Z",
     "shell.execute_reply": "2021-11-28T10:32:32.358615Z"
    },
    "papermill": {
     "duration": 0.177959,
     "end_time": "2021-11-28T10:32:32.359064",
     "exception": false,
     "start_time": "2021-11-28T10:32:32.181105",
     "status": "completed"
    },
    "tags": []
   },
   "outputs": [],
   "source": [
    "import subprocess\n",
    "import sqlite3\n",
    "from fpdf import FPDF\n",
    "import qrcode\n",
    "from datetime import datetime\n",
    "import os\n",
    "import pandas as pd"
   ]
  },
  {
   "cell_type": "code",
   "execution_count": 4,
   "id": "9d03dfb3",
   "metadata": {
    "execution": {
     "iopub.execute_input": "2021-11-28T10:32:32.370319Z",
     "iopub.status.busy": "2021-11-28T10:32:32.369895Z",
     "iopub.status.idle": "2021-11-28T10:32:32.372009Z",
     "shell.execute_reply": "2021-11-28T10:32:32.371658Z"
    },
    "papermill": {
     "duration": 0.008812,
     "end_time": "2021-11-28T10:32:32.372094",
     "exception": false,
     "start_time": "2021-11-28T10:32:32.363282",
     "status": "completed"
    },
    "tags": []
   },
   "outputs": [],
   "source": [
    "def add_taxonomy(obs_dict):\n",
    "    ancestry = obs_dict['ancestry'].split('/')\n",
    "    ancestry.append(obs_dict['taxon'])\n",
    "    for t in ancestry:\n",
    "        sql = f'SELECT rank, name FROM taxons WHERE id == {t}'\n",
    "        cursor = conn.execute(sql)\n",
    "        for row in cursor:\n",
    "            obs_dict[row[0]] = row[1]"
   ]
  },
  {
   "cell_type": "code",
   "execution_count": 5,
   "id": "664e2975",
   "metadata": {
    "execution": {
     "iopub.execute_input": "2021-11-28T10:32:32.382327Z",
     "iopub.status.busy": "2021-11-28T10:32:32.381943Z",
     "iopub.status.idle": "2021-11-28T10:32:32.383790Z",
     "shell.execute_reply": "2021-11-28T10:32:32.383475Z"
    },
    "papermill": {
     "duration": 0.008377,
     "end_time": "2021-11-28T10:32:32.383872",
     "exception": false,
     "start_time": "2021-11-28T10:32:32.375495",
     "status": "completed"
    },
    "tags": []
   },
   "outputs": [],
   "source": [
    "def get_label_data():\n",
    "    data_list = []\n",
    "    sql = \"\"\"\n",
    "    SELECT observations.id, name, rank, observed_on, taxon, place_guess, longitude, latitude, description, project_ids, taxons.ancestry\n",
    "    FROM observations, taxons\n",
    "    WHERE \n",
    "       taxons.id == taxon\n",
    "       AND project_ids LIKE '%1627%'\n",
    "       AND observed_on > '2021-08-01';\n",
    "    \"\"\"\n",
    "    cursor = conn.execute(sql)\n",
    "    for r in cursor:\n",
    "        obs_dict = dict(r)\n",
    "        add_taxonomy(obs_dict)\n",
    "        for key in ['ancestry', 'rank', 'name', 'project_ids', 'taxon']:\n",
    "            del obs_dict[key]\n",
    "        data_list.append(obs_dict)        \n",
    "    return data_list\n",
    "\n",
    "# get_label_data()"
   ]
  },
  {
   "cell_type": "code",
   "execution_count": 6,
   "id": "a7e8793e",
   "metadata": {
    "execution": {
     "iopub.execute_input": "2021-11-28T10:32:32.398813Z",
     "iopub.status.busy": "2021-11-28T10:32:32.398479Z",
     "iopub.status.idle": "2021-11-28T10:32:32.400325Z",
     "shell.execute_reply": "2021-11-28T10:32:32.400005Z"
    },
    "papermill": {
     "duration": 0.013163,
     "end_time": "2021-11-28T10:32:32.400406",
     "exception": false,
     "start_time": "2021-11-28T10:32:32.387243",
     "status": "completed"
    },
    "tags": []
   },
   "outputs": [],
   "source": [
    "class PDF(FPDF):\n",
    "    \n",
    "    def add_label(self, x, y, obs):\n",
    "        self.set_xy(x, y)\n",
    "        self.multi_cell(txt=f'iNAT {obs[\"id\"]}', w=LABEL_WIDTH, ln=2, align='L')\n",
    "        #print(f'1:{self.get_x()} {self.get_y()}')\n",
    "        self.multi_cell(txt=obs['place_guess'], w=LABEL_WIDTH, ln=2, align='L')\n",
    "        #print(f'2:{self.get_x()} {self.get_y()}')\n",
    "        \n",
    "        lat = float(obs['latitude'])\n",
    "        lat = round(lat,6)\n",
    "        if (lat > 0):\n",
    "            lat_suffix = 'N'\n",
    "        else:\n",
    "            lat_suffix = 'S'       \n",
    "        \n",
    "        lon = float(obs['longitude'])\n",
    "        lon = round(lon, 6)\n",
    "        if (lon > 0):\n",
    "            lon_suffix = 'E'\n",
    "        else:\n",
    "            lon_suffix = 'W'\n",
    "        txt = f'{lat}{lat_suffix} {lon}{lon_suffix}' \n",
    "        self.multi_cell(txt=txt, w=LABEL_WIDTH, ln=2, align='L')\n",
    "\n",
    "        txt = obs['description']\n",
    "        if isinstance(txt, str) and (len(txt) > 1):\n",
    "            if len(txt) > DESC_MAX_CHARS:\n",
    "                txt = f'{txt[0:DESC_MAX_CHARS]}...'\n",
    "            self.multi_cell(txt=txt, w=LABEL_WIDTH, ln=2, align='L')\n",
    "       \n",
    "        txt = f'Col. {USER_FULL_NAME} {obs[\"observed_on\"]}'\n",
    "        self.multi_cell(txt=txt, w=LABEL_WIDTH, ln=2, align='L')\n",
    "        \n",
    "        self.multi_cell(txt='---', w=LABEL_WIDTH, ln=2, align='L')\n",
    "        \n",
    "        self.multi_cell(txt=f'iNAT {obs[\"id\"]}', w=LABEL_WIDTH, ln=2, align='L')\n",
    "        \n",
    "        if obs.get('taxon_order_name'):\n",
    "            txt = obs['taxon_order_name']\n",
    "            if isinstance(txt, str):\n",
    "                self.multi_cell(txt=txt.upper(), w=LABEL_WIDTH, ln=2, align='L')\n",
    "            \n",
    "        if obs.get('taxon_family_name'):\n",
    "            txt = obs[\"taxon_family_name\"]  \n",
    "            if isinstance(txt, str):\n",
    "                txt = f'   {txt.upper()}'\n",
    "                self.multi_cell(txt=txt, w=LABEL_WIDTH, ln=2, align='L')\n",
    "            \n",
    "        if obs.get('taxon_species_name'):   # species binomial available\n",
    "            txt = obs.get('taxon_species_name')\n",
    "            if isinstance(txt, str):\n",
    "                txt = f'     {txt}'\n",
    "                self.set_font(style=\"I\")\n",
    "                self.multi_cell(txt=txt, w=LABEL_WIDTH, ln=2, align='L')\n",
    "                self.set_font(style=\"\")\n",
    "        else:\n",
    "            if obs.get('taxon_genus_name'):   # only genus available\n",
    "                txt = obs['taxon_genus_name']\n",
    "                if isinstance(txt, str):\n",
    "                    txt = f'     {obs[\"genus\"]}'\n",
    "                    self.set_font(style=\"I\")\n",
    "                    self.multi_cell(txt=txt, w=LABEL_WIDTH, ln=2, align='L')\n",
    "                    self.set_font(style=\"\")\n",
    "\n",
    "        # Check on this.\n",
    "        txt = f'Det. {USER_FULL_NAME} {obs[\"observed_on\"]}'\n",
    "        self.multi_cell(txt=txt, w=LABEL_WIDTH, ln=2, align='L')\n",
    "        \n",
    "        # barcode\n",
    "        \n",
    "        self.multi_cell(txt='---', w=LABEL_WIDTH, ln=2, align='L')\n",
    "        self.multi_cell(txt=f'iNAT {obs[\"id\"]}', w=LABEL_WIDTH, ln=2, align='L')\n",
    "        url = f\"https://www.inaturalist.org/observations/{obs['id']}\"\n",
    "        img = qrcode.make(url)\n",
    "        self.image(img.get_image(), w=0.25)"
   ]
  },
  {
   "cell_type": "code",
   "execution_count": 7,
   "id": "053c8559",
   "metadata": {
    "execution": {
     "iopub.execute_input": "2021-11-28T10:32:32.411161Z",
     "iopub.status.busy": "2021-11-28T10:32:32.410829Z",
     "iopub.status.idle": "2021-11-28T10:32:32.412646Z",
     "shell.execute_reply": "2021-11-28T10:32:32.412375Z"
    },
    "papermill": {
     "duration": 0.008915,
     "end_time": "2021-11-28T10:32:32.412729",
     "exception": false,
     "start_time": "2021-11-28T10:32:32.403814",
     "status": "completed"
    },
    "tags": []
   },
   "outputs": [],
   "source": [
    "def generate_labels():\n",
    "\n",
    "    pdf = PDF(orientation=\"P\", unit=\"in\", format=\"Letter\")\n",
    "    pdf.set_doc_option('core_fonts_encoding', 'utf-8') #NEW\n",
    "    pdf.set_font(family=FONT, size=FONT_SIZE)\n",
    "    \n",
    "    n = len(data_list)\n",
    "    i = 0\n",
    "    pages = 1 + n // (NROWS * NCOLS)\n",
    "    for p in range(pages):\n",
    "        print(f'Adding page {p}')\n",
    "        pdf.add_page()\n",
    "        txt=f'{USER_FULL_NAME}          Page {p+1} of {pages}          {datetime.now()}'\n",
    "        pdf.set_font(size=14)\n",
    "        pdf.multi_cell(txt=txt, w = 6)\n",
    "        pdf.set_font(size=FONT_SIZE)\n",
    "        r = 0\n",
    "        c = 0\n",
    "        for r in range(NROWS):\n",
    "            y = YMIN + r * LABEL_HEIGHT\n",
    "            for c in range(NCOLS):\n",
    "                x = XMIN + c * LABEL_WIDTH\n",
    "#                 print(f'{i} {p} {r} {c} {x} {y}')\n",
    "#                 print(data_list[i])\n",
    "                pdf.add_label(x, y, data_list[i])\n",
    "                i += 1\n",
    "                if i == n:\n",
    "                    print(f\"writing {pdf_filename}\")\n",
    "                    pdf.output(pdf_filename)\n",
    "                    return\n",
    "\n",
    "# generate_labels()"
   ]
  },
  {
   "cell_type": "code",
   "execution_count": 8,
   "id": "a5fb7366",
   "metadata": {
    "execution": {
     "iopub.execute_input": "2021-11-28T10:32:32.423568Z",
     "iopub.status.busy": "2021-11-28T10:32:32.423235Z",
     "iopub.status.idle": "2021-11-28T10:32:33.207762Z",
     "shell.execute_reply": "2021-11-28T10:32:33.207472Z"
    },
    "papermill": {
     "duration": 0.791596,
     "end_time": "2021-11-28T10:32:33.207852",
     "exception": false,
     "start_time": "2021-11-28T10:32:32.416256",
     "status": "completed"
    },
    "tags": []
   },
   "outputs": [
    {
     "name": "stdout",
     "output_type": "stream",
     "text": [
      "Adding page 0\n"
     ]
    },
    {
     "name": "stdout",
     "output_type": "stream",
     "text": [
      "writing output/Haani_Bettis.pdf\n",
      "FINISHED\n"
     ]
    }
   ],
   "source": [
    "# MAIN\n",
    "\n",
    "# Make sure there is an output directory\n",
    "\n",
    "if not os.path.exists('output'):\n",
    "    os.makedirs('output')\n",
    "\n",
    "df = pd.read_csv(INSECTS_OF_MICRONESIA_CSV)\n",
    "df = df[df['user_login']==USER]\n",
    "data_list = df.to_dict(orient='records')\n",
    "\n",
    "# Generate labels\n",
    "\n",
    "pdf_filename = f\"output/{USER_FULL_NAME.replace(' ', '_')}.pdf\"\n",
    "generate_labels()\n",
    "\n",
    "if PRINT:\n",
    "    subprocess.run(['lpr', '-P', 'HP-LaserJet-P1006', pdf_filename])\n",
    "\n",
    "print('FINISHED')"
   ]
  }
 ],
 "metadata": {
  "kernelspec": {
   "display_name": "Python 3",
   "language": "python",
   "name": "python3"
  },
  "language_info": {
   "codemirror_mode": {
    "name": "ipython",
    "version": 3
   },
   "file_extension": ".py",
   "mimetype": "text/x-python",
   "name": "python",
   "nbconvert_exporter": "python",
   "pygments_lexer": "ipython3",
   "version": "3.8.8"
  },
  "papermill": {
   "default_parameters": {},
   "duration": 1.936711,
   "end_time": "2021-11-28T10:32:33.520720",
   "environment_variables": {},
   "exception": null,
   "input_path": "inat_labels1.ipynb",
   "output_path": "output/Haani_Bettis.ipynb",
   "parameters": {
    "INSECTS_OF_MICRONESIA_CSV": "observations-201486.csv",
    "PRINT": "TRUE",
    "USER": "haanibettis",
    "USER_FULL_NAME": "Haani Bettis"
   },
   "start_time": "2021-11-28T10:32:31.584009",
   "version": "2.3.3"
  }
 },
 "nbformat": 4,
 "nbformat_minor": 5
}