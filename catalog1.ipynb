{
 "cells": [
  {
   "cell_type": "markdown",
   "id": "76597794-aebc-493f-a162-0ba579957162",
   "metadata": {},
   "source": [
    "# catalog1\n",
    "\n",
    "Run using **jupyter lab** and the **Python 3 kernel**."
   ]
  },
  {
   "cell_type": "code",
   "execution_count": 1,
   "id": "602379ec-43a6-463f-bea5-9a255a843c30",
   "metadata": {},
   "outputs": [],
   "source": [
    "import glob\n",
    "from dwca.read import DwCAReader\n",
    "import pandas as pd\n",
    "import os"
   ]
  },
  {
   "cell_type": "code",
   "execution_count": 2,
   "id": "fcc34c76-68b0-4d02-b719-78e3d1e86b67",
   "metadata": {},
   "outputs": [],
   "source": [
    "INSECTS_OF_MICRONESIA_CSV = 'observations-203843.csv'\n",
    "STUDENTS = 'albi345-2021.csv'\n",
    "PRINT = True"
   ]
  },
  {
   "cell_type": "code",
   "execution_count": 3,
   "id": "0c9bb60c-de3e-4f8d-a9bd-c318899028ce",
   "metadata": {},
   "outputs": [],
   "source": [
    "def get_dwca_path(search_string):\n",
    "    mylist = glob.glob(search_string)\n",
    "    if len(mylist) == 0:\n",
    "        raise Exception(f'No files found with search string = {search_string}')\n",
    "    if len(mylist) > 1:\n",
    "        raise Exception(f'Multiple files found with search string = {search_string}')\n",
    "    return mylist[0]\n",
    "\n",
    "# get_dwca_path('*.zip')    "
   ]
  },
  {
   "cell_type": "code",
   "execution_count": 4,
   "id": "6c9291b2-c7fe-4c81-9ec4-b05b2229ea8d",
   "metadata": {},
   "outputs": [],
   "source": [
    "def create_occurrence_dataframe(dwca_path):\n",
    "    '''\n",
    "    Note: low_memory=False is set to suppress a DtypeWarning. \n",
    "    This is considered to be bad practice. \n",
    "    See oelpeters.be/solved-dtypewarning-columns-have-mixed-types-specify-dtype-option-on-import-or-set-low-memory-in-pandas/    \n",
    "    '''\n",
    "    with DwCAReader(dwca_path) as dwca:\n",
    "        df = dwca.pd_read('occurrence.txt', parse_dates=True, low_memory=False)\n",
    "    return df\n",
    "\n",
    "# dwca_path = get_dwca_path('*.zip')\n",
    "# df = create_occurrence_dataframe(dwca_path)\n",
    "# df"
   ]
  },
  {
   "cell_type": "raw",
   "id": "a21e57ae-0c9e-4d36-b939-82ecfefb1dbc",
   "metadata": {},
   "source": [
    "def check_gbif(scientific_name):\n",
    "#     scientific_name = 'Protaetia fusca'\n",
    "    df_sciname = df.loc[df['scientificName'].str.startswith(scientific_name)]\n",
    "    \n",
    "    df_sciname.fillna('', inplace=True)\n",
    "    \n",
    "    total_occurrences = df_sciname.shape[0]\n",
    "    if total_occurrences == 0:\n",
    "        inat_occurrences = 0\n",
    "    else:\n",
    "        inat_occurrences = df_sciname.loc[df_sciname[\"references\"].str.contains(\"inaturalist\")].shape[0]\n",
    "    return f'total occurrences: {total_occurrences}   iNaturalist occurrences: {inat_occurrences}'"
   ]
  },
  {
   "cell_type": "code",
   "execution_count": 5,
   "id": "9008cd86-7f25-4e03-b3e5-395ff9434d80",
   "metadata": {},
   "outputs": [
    {
     "name": "stdout",
     "output_type": "stream",
     "text": [
      "dwca path: 0077358-210914110416597.zip\n"
     ]
    },
    {
     "name": "stderr",
     "output_type": "stream",
     "text": [
      "/home/aubrey/anaconda3/lib/python3.8/site-packages/pandas/core/frame.py:4462: SettingWithCopyWarning: \n",
      "A value is trying to be set on a copy of a slice from a DataFrame\n",
      "\n",
      "See the caveats in the documentation: https://pandas.pydata.org/pandas-docs/stable/user_guide/indexing.html#returning-a-view-versus-a-copy\n",
      "  return super().fillna(\n"
     ]
    },
    {
     "name": "stdout",
     "output_type": "stream",
     "text": [
      "FINISHED\n",
      "CPU times: user 8.99 s, sys: 55 ms, total: 9.04 s\n",
      "Wall time: 15.5 s\n"
     ]
    }
   ],
   "source": [
    "%%time\n",
    "\n",
    "# MAIN\n",
    "\n",
    "dwca_path = get_dwca_path('*.zip')\n",
    "print(f'dwca path: {dwca_path}')\n",
    "df = create_occurrence_dataframe(dwca_path)\n",
    "df.dropna(how='all', axis=1, inplace=True)\n",
    "\n",
    "df_iom = pd.read_csv(INSECTS_OF_MICRONESIA_CSV)\n",
    "\n",
    "df_students = pd.read_csv(STUDENTS)\n",
    "\n",
    "for i,r in df_students.iterrows():\n",
    "#     print()\n",
    "#     print(r['name'], r['inat_user_login'])\n",
    "    \n",
    "    # Create a table for the current student's specimens - data comes from iNaturalist (df_iom)\n",
    "\n",
    "    df_student_specimens = df_iom.loc[df_iom['user_login']==r['inat_user_login']]\n",
    "    field_list = ['id', 'taxon_order_name', 'taxon_family_name', 'taxon_genus_name', 'taxon_species_name', 'scientific_name']\n",
    "    df_student_specimens = df_student_specimens[field_list]\n",
    "    df_student_specimens.sort_values(by=field_list[1:], inplace=True)\n",
    "    df_student_specimens.columns = ['id', 'order', 'family', 'genus', 'species', 'scientific_name']\n",
    "#     print(df_student_specimens.shape[0])\n",
    "#     print(df_student_specimens)\n",
    "\n",
    "    s = f'<h1>{r[\"name\"]}</h1>\\n'\n",
    "    s += f'<p>{df_student_specimens.shape[0]} specimens</p>\\n'\n",
    "    s += '<table>\\n'\n",
    "    \n",
    "    # Create a table row for each specimen\n",
    "    \n",
    "    for i1, r1 in df_student_specimens.iterrows():        \n",
    "#         print(r1['id'],r1['order'],r1['family'],r1['genus'],r1['species'],r1['scientific_name'])\n",
    "        s += '<tr>\\n'\n",
    "        id = r1['id']\n",
    "        link = f'<a href=\"https://www.inaturalist.org/observations/{id}\">{id}</a>'\n",
    "        s += f'<td>{link}</td>\\n'\n",
    "        s += f'<td>{r1[\"order\"]}</td>\\n'\n",
    "        s += f'<td>{r1[\"family\"]}</td>\\n'\n",
    "        s += f'<td>{r1[\"genus\"]}</td>\\n'\n",
    "#         s += f'<td>{r1[\"species\"]}</td>\\n'\n",
    "        s += f'<td>{r1[\"scientific_name\"]}</td>\\n'\n",
    "        \n",
    "        # Count the number of occurrences in GBIF (df) and add these to the table row\n",
    "        \n",
    "        df_sciname = df.loc[df['scientificName'].str.startswith(r1['scientific_name'])]\n",
    "        df_sciname.fillna('', inplace=True)        \n",
    "        total_occurrences = df_sciname.shape[0]\n",
    "        inat_occurrences = df_sciname.loc[df_sciname[\"references\"].str.contains(\"inaturalist\")].shape[0]       \n",
    "#         print(f'total occurrences: {total_occurrences}   iNaturalist occurrences: {inat_occurrences}')\n",
    "        s += f'<td>{total_occurrences}</td>\\n'\n",
    "        s += f'<td>{inat_occurrences}</td>\\n'\n",
    "        s += f'</tr>\\n'\n",
    "    s += '</table>'\n",
    "    \n",
    "    # Save html in a file\n",
    "    \n",
    "    html_file = f'{r[\"name\"]}.html'\n",
    "    html_file = html_file.replace(' ', '_')\n",
    "    with open(html_file, 'w') as f:\n",
    "        f.write(s)\n",
    "        \n",
    "    # Create a PDF version as well\n",
    "    \n",
    "    pdf_file = html_file.replace(\".html\", \".pdf\")\n",
    "    commandline = f'pandoc {html_file} -o {pdf_file}'\n",
    "    os.system(commandline)\n",
    "    \n",
    "    if PRINT:\n",
    "        commandline = f'lp {pdf_file}'\n",
    "        os.system(commandline)\n",
    "    \n",
    "print('FINISHED')"
   ]
  }
 ],
 "metadata": {
  "kernelspec": {
   "display_name": "Python 3",
   "language": "python",
   "name": "python3"
  },
  "language_info": {
   "codemirror_mode": {
    "name": "ipython",
    "version": 3
   },
   "file_extension": ".py",
   "mimetype": "text/x-python",
   "name": "python",
   "nbconvert_exporter": "python",
   "pygments_lexer": "ipython3",
   "version": "3.8.8"
  }
 },
 "nbformat": 4,
 "nbformat_minor": 5
}
