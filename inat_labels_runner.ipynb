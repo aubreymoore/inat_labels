{
 "cells": [
  {
   "cell_type": "markdown",
   "id": "cf63cb1d-00bc-4495-a40c-f2933cc3f903",
   "metadata": {},
   "source": [
    "First step is to download a CSV file containing all the data for the **Insects of Micronesia** iNaturalist project.\n",
    "This is currently done manually following these steps:\n",
    "* Export observations | csv\n",
    "* Under **Choose columns** select all for **Basic, Geo, Taxon extras**\n",
    "* Press the **Create export** button\n",
    "* Press the **Receive an email with your data\n",
    "\n",
    "Update the parameter below."
   ]
  },
  {
   "cell_type": "code",
   "execution_count": 7,
   "id": "abd17ef2-d3bd-4779-9e08-22ada480f01e",
   "metadata": {},
   "outputs": [],
   "source": [
    "INSECTS_OF_MICRONESIA_CSV = 'observations-201486.csv'"
   ]
  },
  {
   "cell_type": "code",
   "execution_count": 8,
   "id": "a778831b",
   "metadata": {},
   "outputs": [],
   "source": [
    "import pandas as pd\n",
    "import papermill as pm"
   ]
  },
  {
   "cell_type": "code",
   "execution_count": 9,
   "id": "6a1f5f61",
   "metadata": {},
   "outputs": [
    {
     "data": {
      "text/html": [
       "<div>\n",
       "<style scoped>\n",
       "    .dataframe tbody tr th:only-of-type {\n",
       "        vertical-align: middle;\n",
       "    }\n",
       "\n",
       "    .dataframe tbody tr th {\n",
       "        vertical-align: top;\n",
       "    }\n",
       "\n",
       "    .dataframe thead th {\n",
       "        text-align: right;\n",
       "    }\n",
       "</style>\n",
       "<table border=\"1\" class=\"dataframe\">\n",
       "  <thead>\n",
       "    <tr style=\"text-align: right;\">\n",
       "      <th></th>\n",
       "      <th>name</th>\n",
       "      <th>inat_user_login</th>\n",
       "    </tr>\n",
       "  </thead>\n",
       "  <tbody>\n",
       "    <tr>\n",
       "      <th>0</th>\n",
       "      <td>Chelsea Taitano</td>\n",
       "      <td>chelstai</td>\n",
       "    </tr>\n",
       "    <tr>\n",
       "      <th>1</th>\n",
       "      <td>Risel Uludong</td>\n",
       "      <td>uludongr</td>\n",
       "    </tr>\n",
       "    <tr>\n",
       "      <th>2</th>\n",
       "      <td>Touraine E. Williams</td>\n",
       "      <td>uchan</td>\n",
       "    </tr>\n",
       "    <tr>\n",
       "      <th>3</th>\n",
       "      <td>Anela Duenas</td>\n",
       "      <td>aneladuenas</td>\n",
       "    </tr>\n",
       "    <tr>\n",
       "      <th>4</th>\n",
       "      <td>Audrey Marie Santos</td>\n",
       "      <td>santosa11828</td>\n",
       "    </tr>\n",
       "    <tr>\n",
       "      <th>5</th>\n",
       "      <td>Julia Birn</td>\n",
       "      <td>jbirn</td>\n",
       "    </tr>\n",
       "    <tr>\n",
       "      <th>6</th>\n",
       "      <td>Ray Mark Guinto</td>\n",
       "      <td>raympguinto</td>\n",
       "    </tr>\n",
       "    <tr>\n",
       "      <th>7</th>\n",
       "      <td>Stephenie Andriana Santos</td>\n",
       "      <td>santoss11532</td>\n",
       "    </tr>\n",
       "    <tr>\n",
       "      <th>8</th>\n",
       "      <td>Rachel Mungon</td>\n",
       "      <td>rachelm23</td>\n",
       "    </tr>\n",
       "    <tr>\n",
       "      <th>9</th>\n",
       "      <td>Samantha Gilinug</td>\n",
       "      <td>samantha1015</td>\n",
       "    </tr>\n",
       "    <tr>\n",
       "      <th>10</th>\n",
       "      <td>Haani Bettis</td>\n",
       "      <td>haanibettis</td>\n",
       "    </tr>\n",
       "    <tr>\n",
       "      <th>11</th>\n",
       "      <td>Rita Barcinas</td>\n",
       "      <td>barcinasrita</td>\n",
       "    </tr>\n",
       "    <tr>\n",
       "      <th>12</th>\n",
       "      <td>Stewart Johnny</td>\n",
       "      <td>stewjohn</td>\n",
       "    </tr>\n",
       "    <tr>\n",
       "      <th>13</th>\n",
       "      <td>Tarsis Maddison</td>\n",
       "      <td>maddisont</td>\n",
       "    </tr>\n",
       "    <tr>\n",
       "      <th>14</th>\n",
       "      <td>Eric Delfin</td>\n",
       "      <td>eric1434</td>\n",
       "    </tr>\n",
       "    <tr>\n",
       "      <th>15</th>\n",
       "      <td>Daniel Castro</td>\n",
       "      <td>castrod</td>\n",
       "    </tr>\n",
       "    <tr>\n",
       "      <th>16</th>\n",
       "      <td>Lawrenz Gaerlon</td>\n",
       "      <td>todayis_renz</td>\n",
       "    </tr>\n",
       "    <tr>\n",
       "      <th>17</th>\n",
       "      <td>Kenneth Bigalbal</td>\n",
       "      <td>bigalbalk</td>\n",
       "    </tr>\n",
       "    <tr>\n",
       "      <th>18</th>\n",
       "      <td>Joan Fernandez</td>\n",
       "      <td>joanxfrndz</td>\n",
       "    </tr>\n",
       "    <tr>\n",
       "      <th>19</th>\n",
       "      <td>Kyle Quiambao</td>\n",
       "      <td>derpyinsight</td>\n",
       "    </tr>\n",
       "    <tr>\n",
       "      <th>20</th>\n",
       "      <td>Laura Caser</td>\n",
       "      <td>lauracaser</td>\n",
       "    </tr>\n",
       "    <tr>\n",
       "      <th>21</th>\n",
       "      <td>Berncie Lizama</td>\n",
       "      <td>berncie</td>\n",
       "    </tr>\n",
       "  </tbody>\n",
       "</table>\n",
       "</div>"
      ],
      "text/plain": [
       "                         name inat_user_login\n",
       "0             Chelsea Taitano        chelstai\n",
       "1               Risel Uludong        uludongr\n",
       "2        Touraine E. Williams           uchan\n",
       "3                Anela Duenas     aneladuenas\n",
       "4         Audrey Marie Santos    santosa11828\n",
       "5                  Julia Birn           jbirn\n",
       "6             Ray Mark Guinto     raympguinto\n",
       "7   Stephenie Andriana Santos    santoss11532\n",
       "8               Rachel Mungon       rachelm23\n",
       "9            Samantha Gilinug    samantha1015\n",
       "10               Haani Bettis     haanibettis\n",
       "11              Rita Barcinas    barcinasrita\n",
       "12             Stewart Johnny        stewjohn\n",
       "13            Tarsis Maddison       maddisont\n",
       "14                Eric Delfin        eric1434\n",
       "15              Daniel Castro         castrod\n",
       "16            Lawrenz Gaerlon    todayis_renz\n",
       "17           Kenneth Bigalbal       bigalbalk\n",
       "18             Joan Fernandez      joanxfrndz\n",
       "19              Kyle Quiambao    derpyinsight\n",
       "20                Laura Caser      lauracaser\n",
       "21             Berncie Lizama         berncie"
      ]
     },
     "execution_count": 9,
     "metadata": {},
     "output_type": "execute_result"
    }
   ],
   "source": [
    "# Read a list ofstudents and their iNat user names.\n",
    "\n",
    "df = pd.read_csv('albi345-2021.csv')\n",
    "df"
   ]
  },
  {
   "cell_type": "raw",
   "id": "201ff73f-7f36-49a2-97c2-e76bb3658385",
   "metadata": {},
   "source": [
    "!jupyter nbextension enable --py widgetsnbextension"
   ]
  },
  {
   "cell_type": "code",
   "execution_count": 10,
   "id": "08bae37e",
   "metadata": {},
   "outputs": [
    {
     "name": "stdout",
     "output_type": "stream",
     "text": [
      "{'name': 'Chelsea Taitano', 'inat_user_login': 'chelstai'}\n"
     ]
    },
    {
     "data": {
      "application/vnd.jupyter.widget-view+json": {
       "model_id": "d4f2dab48ac844b6b2a6d4cd897a5018",
       "version_major": 2,
       "version_minor": 0
      },
      "text/plain": [
       "Executing:   0%|          | 0/8 [00:00<?, ?cell/s]"
      ]
     },
     "metadata": {},
     "output_type": "display_data"
    },
    {
     "name": "stdout",
     "output_type": "stream",
     "text": [
      "{'name': 'Risel Uludong', 'inat_user_login': 'uludongr'}\n"
     ]
    },
    {
     "data": {
      "application/vnd.jupyter.widget-view+json": {
       "model_id": "0ace67fa22df40a5987af623337edda3",
       "version_major": 2,
       "version_minor": 0
      },
      "text/plain": [
       "Executing:   0%|          | 0/8 [00:00<?, ?cell/s]"
      ]
     },
     "metadata": {},
     "output_type": "display_data"
    },
    {
     "name": "stdout",
     "output_type": "stream",
     "text": [
      "{'name': 'Touraine E. Williams', 'inat_user_login': 'uchan'}\n"
     ]
    },
    {
     "data": {
      "application/vnd.jupyter.widget-view+json": {
       "model_id": "a9aa5141e71548caa0aca3e17fda79fc",
       "version_major": 2,
       "version_minor": 0
      },
      "text/plain": [
       "Executing:   0%|          | 0/8 [00:00<?, ?cell/s]"
      ]
     },
     "metadata": {},
     "output_type": "display_data"
    },
    {
     "name": "stdout",
     "output_type": "stream",
     "text": [
      "{'name': 'Anela Duenas', 'inat_user_login': 'aneladuenas'}\n"
     ]
    },
    {
     "data": {
      "application/vnd.jupyter.widget-view+json": {
       "model_id": "09fb6af5aa6b473d9db81d26a31826f0",
       "version_major": 2,
       "version_minor": 0
      },
      "text/plain": [
       "Executing:   0%|          | 0/8 [00:00<?, ?cell/s]"
      ]
     },
     "metadata": {},
     "output_type": "display_data"
    },
    {
     "name": "stdout",
     "output_type": "stream",
     "text": [
      "{'name': 'Audrey Marie Santos', 'inat_user_login': 'santosa11828'}\n"
     ]
    },
    {
     "data": {
      "application/vnd.jupyter.widget-view+json": {
       "model_id": "1a4feb5f86a34592b04c20051c3cef5a",
       "version_major": 2,
       "version_minor": 0
      },
      "text/plain": [
       "Executing:   0%|          | 0/8 [00:00<?, ?cell/s]"
      ]
     },
     "metadata": {},
     "output_type": "display_data"
    },
    {
     "name": "stdout",
     "output_type": "stream",
     "text": [
      "{'name': 'Julia Birn', 'inat_user_login': 'jbirn'}\n"
     ]
    },
    {
     "data": {
      "application/vnd.jupyter.widget-view+json": {
       "model_id": "54648f6ae4f6469593ccaac88ae11e6e",
       "version_major": 2,
       "version_minor": 0
      },
      "text/plain": [
       "Executing:   0%|          | 0/8 [00:00<?, ?cell/s]"
      ]
     },
     "metadata": {},
     "output_type": "display_data"
    },
    {
     "name": "stdout",
     "output_type": "stream",
     "text": [
      "{'name': 'Ray Mark Guinto', 'inat_user_login': 'raympguinto'}\n"
     ]
    },
    {
     "data": {
      "application/vnd.jupyter.widget-view+json": {
       "model_id": "64f872f413f04ee4a8b2775651ba5b34",
       "version_major": 2,
       "version_minor": 0
      },
      "text/plain": [
       "Executing:   0%|          | 0/8 [00:00<?, ?cell/s]"
      ]
     },
     "metadata": {},
     "output_type": "display_data"
    },
    {
     "name": "stdout",
     "output_type": "stream",
     "text": [
      "{'name': 'Stephenie Andriana Santos', 'inat_user_login': 'santoss11532'}\n"
     ]
    },
    {
     "data": {
      "application/vnd.jupyter.widget-view+json": {
       "model_id": "15f87102554541f1a6158e3543911247",
       "version_major": 2,
       "version_minor": 0
      },
      "text/plain": [
       "Executing:   0%|          | 0/8 [00:00<?, ?cell/s]"
      ]
     },
     "metadata": {},
     "output_type": "display_data"
    },
    {
     "name": "stdout",
     "output_type": "stream",
     "text": [
      "{'name': 'Rachel Mungon', 'inat_user_login': 'rachelm23'}\n"
     ]
    },
    {
     "data": {
      "application/vnd.jupyter.widget-view+json": {
       "model_id": "6bf7a1a0b14d4ba19ca612cb46939830",
       "version_major": 2,
       "version_minor": 0
      },
      "text/plain": [
       "Executing:   0%|          | 0/8 [00:00<?, ?cell/s]"
      ]
     },
     "metadata": {},
     "output_type": "display_data"
    },
    {
     "name": "stdout",
     "output_type": "stream",
     "text": [
      "{'name': 'Samantha Gilinug', 'inat_user_login': 'samantha1015'}\n"
     ]
    },
    {
     "data": {
      "application/vnd.jupyter.widget-view+json": {
       "model_id": "1ae7a925926e43b49d10577000746bd1",
       "version_major": 2,
       "version_minor": 0
      },
      "text/plain": [
       "Executing:   0%|          | 0/8 [00:00<?, ?cell/s]"
      ]
     },
     "metadata": {},
     "output_type": "display_data"
    },
    {
     "name": "stdout",
     "output_type": "stream",
     "text": [
      "{'name': 'Haani Bettis', 'inat_user_login': 'haanibettis'}\n"
     ]
    },
    {
     "data": {
      "application/vnd.jupyter.widget-view+json": {
       "model_id": "c2c10bc32d24454e8b51904424c8bd39",
       "version_major": 2,
       "version_minor": 0
      },
      "text/plain": [
       "Executing:   0%|          | 0/8 [00:00<?, ?cell/s]"
      ]
     },
     "metadata": {},
     "output_type": "display_data"
    },
    {
     "name": "stdout",
     "output_type": "stream",
     "text": [
      "{'name': 'Rita Barcinas', 'inat_user_login': 'barcinasrita'}\n"
     ]
    },
    {
     "data": {
      "application/vnd.jupyter.widget-view+json": {
       "model_id": "7535859a30564683aa7cc5a45454c95e",
       "version_major": 2,
       "version_minor": 0
      },
      "text/plain": [
       "Executing:   0%|          | 0/8 [00:00<?, ?cell/s]"
      ]
     },
     "metadata": {},
     "output_type": "display_data"
    },
    {
     "name": "stdout",
     "output_type": "stream",
     "text": [
      "{'name': 'Stewart Johnny', 'inat_user_login': 'stewjohn'}\n"
     ]
    },
    {
     "data": {
      "application/vnd.jupyter.widget-view+json": {
       "model_id": "8c0d1413d14546688e4ea3d1c08e0e5c",
       "version_major": 2,
       "version_minor": 0
      },
      "text/plain": [
       "Executing:   0%|          | 0/8 [00:00<?, ?cell/s]"
      ]
     },
     "metadata": {},
     "output_type": "display_data"
    },
    {
     "name": "stdout",
     "output_type": "stream",
     "text": [
      "{'name': 'Tarsis Maddison', 'inat_user_login': 'maddisont'}\n"
     ]
    },
    {
     "data": {
      "application/vnd.jupyter.widget-view+json": {
       "model_id": "9e9f65f81fbd4a74b7bf1e00dfde10ef",
       "version_major": 2,
       "version_minor": 0
      },
      "text/plain": [
       "Executing:   0%|          | 0/8 [00:00<?, ?cell/s]"
      ]
     },
     "metadata": {},
     "output_type": "display_data"
    },
    {
     "name": "stdout",
     "output_type": "stream",
     "text": [
      "{'name': 'Eric Delfin', 'inat_user_login': 'eric1434'}\n"
     ]
    },
    {
     "data": {
      "application/vnd.jupyter.widget-view+json": {
       "model_id": "ee0ba191eff74f6c91c2907b489dd2be",
       "version_major": 2,
       "version_minor": 0
      },
      "text/plain": [
       "Executing:   0%|          | 0/8 [00:00<?, ?cell/s]"
      ]
     },
     "metadata": {},
     "output_type": "display_data"
    },
    {
     "name": "stdout",
     "output_type": "stream",
     "text": [
      "{'name': 'Daniel Castro', 'inat_user_login': 'castrod'}\n"
     ]
    },
    {
     "data": {
      "application/vnd.jupyter.widget-view+json": {
       "model_id": "58b1e90ed4714822859f28b96f8035c1",
       "version_major": 2,
       "version_minor": 0
      },
      "text/plain": [
       "Executing:   0%|          | 0/8 [00:00<?, ?cell/s]"
      ]
     },
     "metadata": {},
     "output_type": "display_data"
    },
    {
     "name": "stdout",
     "output_type": "stream",
     "text": [
      "{'name': 'Lawrenz Gaerlon', 'inat_user_login': 'todayis_renz'}\n"
     ]
    },
    {
     "data": {
      "application/vnd.jupyter.widget-view+json": {
       "model_id": "1d2a34c53ec0465ebd84d915e9757a45",
       "version_major": 2,
       "version_minor": 0
      },
      "text/plain": [
       "Executing:   0%|          | 0/8 [00:00<?, ?cell/s]"
      ]
     },
     "metadata": {},
     "output_type": "display_data"
    },
    {
     "name": "stdout",
     "output_type": "stream",
     "text": [
      "{'name': 'Kenneth Bigalbal', 'inat_user_login': 'bigalbalk'}\n"
     ]
    },
    {
     "data": {
      "application/vnd.jupyter.widget-view+json": {
       "model_id": "1037a4b3e9cd47528eedaa0708bb34ba",
       "version_major": 2,
       "version_minor": 0
      },
      "text/plain": [
       "Executing:   0%|          | 0/8 [00:00<?, ?cell/s]"
      ]
     },
     "metadata": {},
     "output_type": "display_data"
    },
    {
     "name": "stdout",
     "output_type": "stream",
     "text": [
      "{'name': 'Joan Fernandez', 'inat_user_login': 'joanxfrndz'}\n"
     ]
    },
    {
     "data": {
      "application/vnd.jupyter.widget-view+json": {
       "model_id": "507733fbec454d10875db463f82d01ef",
       "version_major": 2,
       "version_minor": 0
      },
      "text/plain": [
       "Executing:   0%|          | 0/8 [00:00<?, ?cell/s]"
      ]
     },
     "metadata": {},
     "output_type": "display_data"
    },
    {
     "name": "stdout",
     "output_type": "stream",
     "text": [
      "{'name': 'Kyle Quiambao', 'inat_user_login': 'derpyinsight'}\n"
     ]
    },
    {
     "data": {
      "application/vnd.jupyter.widget-view+json": {
       "model_id": "29e26c1e1bc944e4a49f143d674d4089",
       "version_major": 2,
       "version_minor": 0
      },
      "text/plain": [
       "Executing:   0%|          | 0/8 [00:00<?, ?cell/s]"
      ]
     },
     "metadata": {},
     "output_type": "display_data"
    },
    {
     "name": "stdout",
     "output_type": "stream",
     "text": [
      "{'name': 'Laura Caser', 'inat_user_login': 'lauracaser'}\n"
     ]
    },
    {
     "data": {
      "application/vnd.jupyter.widget-view+json": {
       "model_id": "279127254c1f409c9f4e85ca5dc851ed",
       "version_major": 2,
       "version_minor": 0
      },
      "text/plain": [
       "Executing:   0%|          | 0/8 [00:00<?, ?cell/s]"
      ]
     },
     "metadata": {},
     "output_type": "display_data"
    },
    {
     "name": "stdout",
     "output_type": "stream",
     "text": [
      "{'name': 'Berncie Lizama', 'inat_user_login': 'berncie'}\n"
     ]
    },
    {
     "data": {
      "application/vnd.jupyter.widget-view+json": {
       "model_id": "4c9fb1cc5fc64db89127de03c8ea8ba2",
       "version_major": 2,
       "version_minor": 0
      },
      "text/plain": [
       "Executing:   0%|          | 0/8 [00:00<?, ?cell/s]"
      ]
     },
     "metadata": {},
     "output_type": "display_data"
    }
   ],
   "source": [
    "for i,r in df.iterrows():\n",
    "    r = dict(r)\n",
    "    print(r)\n",
    "    user = r['inat_user_login']\n",
    "    user_full_name = r['name']\n",
    "    try:\n",
    "        pm.execute_notebook('inat_labels1.ipynb',\n",
    "                            f'output/{user_full_name.replace(\" \", \"_\")}.ipynb',\n",
    "                            parameters={\n",
    "                                'INSECTS_OF_MICRONESIA_CSV':INSECTS_OF_MICRONESIA_CSV,\n",
    "                                'USER':user, \n",
    "                                'USER_FULL_NAME': user_full_name,\n",
    "                                'PRINT': 'TRUE'})\n",
    "    except:\n",
    "        continue"
   ]
  },
  {
   "cell_type": "code",
   "execution_count": 11,
   "id": "778beae3-a268-4f98-ac3c-a62252eeaa87",
   "metadata": {},
   "outputs": [
    {
     "name": "stdout",
     "output_type": "stream",
     "text": [
      "Chelsea Taitano   (chelstai)   35\n",
      "Risel Uludong   (uludongr)   33\n",
      "Touraine E. Williams   (uchan)   47\n",
      "Anela Duenas   (aneladuenas)   30\n",
      "Audrey Marie Santos   (santosa11828)   24\n",
      "Julia Birn   (jbirn)   37\n",
      "Ray Mark Guinto   (raympguinto)   38\n",
      "Stephenie Andriana Santos   (santoss11532)   32\n",
      "Rachel Mungon   (rachelm23)   0\n",
      "Samantha Gilinug   (samantha1015)   0\n",
      "Haani Bettis   (haanibettis)   47\n",
      "Rita Barcinas   (barcinasrita)   1\n",
      "Stewart Johnny   (stewjohn)   29\n",
      "Tarsis Maddison   (maddisont)   0\n",
      "Eric Delfin   (eric1434)   3\n",
      "Daniel Castro   (castrod)   15\n",
      "Lawrenz Gaerlon   (todayis_renz)   30\n",
      "Kenneth Bigalbal   (bigalbalk)   20\n",
      "Joan Fernandez   (joanxfrndz)   24\n",
      "Kyle Quiambao   (derpyinsight)   37\n",
      "Laura Caser   (lauracaser)   90\n",
      "Berncie Lizama   (berncie)   4\n"
     ]
    }
   ],
   "source": [
    "df = pd.read_csv('albi345-2021.csv')\n",
    "df_data = pd.read_csv(INSECTS_OF_MICRONESIA_CSV)\n",
    "\n",
    "for i, r in df.iterrows():\n",
    "    print(f\"{r['name']}   ({r.inat_user_login})   {sum(df_data.user_login==r.inat_user_login)}\")"
   ]
  },
  {
   "cell_type": "code",
   "execution_count": 12,
   "id": "467b1384-f972-4041-bcdc-301e5a1643ad",
   "metadata": {},
   "outputs": [
    {
     "data": {
      "text/plain": [
       "user_login\n",
       "aneladuenas                30\n",
       "asanuma                     1\n",
       "aubreymoore                 3\n",
       "barcinasrita                1\n",
       "berncie                     4\n",
       "bigalbalk                  20\n",
       "castrod                    15\n",
       "chelstai                   35\n",
       "derpyinsight               37\n",
       "entomologist_of_mystery    54\n",
       "eric1434                    3\n",
       "haanibettis                47\n",
       "jbirn                      37\n",
       "joanxfrndz                 24\n",
       "keandra24                   4\n",
       "lauracaser                 90\n",
       "leeroysablan               15\n",
       "raympguinto                38\n",
       "santosa11828               24\n",
       "santoss11532               32\n",
       "stewjohn                   29\n",
       "thatbeeguyrosario           1\n",
       "todayis_renz               30\n",
       "uchan                      47\n",
       "uludongr                   33\n",
       "Name: id, dtype: int64"
      ]
     },
     "execution_count": 12,
     "metadata": {},
     "output_type": "execute_result"
    }
   ],
   "source": [
    "df_data.groupby('user_login').id.count()"
   ]
  }
 ],
 "metadata": {
  "kernelspec": {
   "display_name": "Python 3",
   "language": "python",
   "name": "python3"
  },
  "language_info": {
   "codemirror_mode": {
    "name": "ipython",
    "version": 3
   },
   "file_extension": ".py",
   "mimetype": "text/x-python",
   "name": "python",
   "nbconvert_exporter": "python",
   "pygments_lexer": "ipython3",
   "version": "3.8.8"
  }
 },
 "nbformat": 4,
 "nbformat_minor": 5
}
