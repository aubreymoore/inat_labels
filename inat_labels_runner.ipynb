{
 "cells": [
  {
   "cell_type": "markdown",
   "id": "cf63cb1d-00bc-4495-a40c-f2933cc3f903",
   "metadata": {},
   "source": [
    "Run using **jupyter lab** and the **Python 3** kernel.\n",
    "\n",
    "First step is to download a CSV file containing all the data for the **Insects of Micronesia** iNaturalist project.\n",
    "This is currently done manually following these steps:\n",
    "* Export **observations | csv**\n",
    "* Select date range (optional)\n",
    "* Under **Choose columns** select all for **Basic, Geo, Taxon extras**\n",
    "* Press the **Create export** button\n",
    "* Press the **Receive an email with your data\n",
    "\n",
    "Update the parameter below."
   ]
  },
  {
   "cell_type": "code",
   "execution_count": 21,
   "id": "abd17ef2-d3bd-4779-9e08-22ada480f01e",
   "metadata": {},
   "outputs": [],
   "source": [
    "INSECTS_OF_MICRONESIA_CSV = '/home/aubrey/Desktop/inat_labels/observations-203843.csv'"
   ]
  },
  {
   "cell_type": "code",
   "execution_count": 22,
   "id": "a778831b",
   "metadata": {},
   "outputs": [],
   "source": [
    "import pandas as pd\n",
    "import papermill as pm"
   ]
  },
  {
   "cell_type": "code",
   "execution_count": 23,
   "id": "6a1f5f61",
   "metadata": {},
   "outputs": [],
   "source": [
    "# Read a list ofstudents and their iNat user names.\n",
    "\n",
    "df = pd.read_csv('albi345-2021.csv')"
   ]
  },
  {
   "cell_type": "raw",
   "id": "201ff73f-7f36-49a2-97c2-e76bb3658385",
   "metadata": {},
   "source": [
    "!jupyter nbextension enable --py widgetsnbextension"
   ]
  },
  {
   "cell_type": "code",
   "execution_count": 24,
   "id": "08bae37e",
   "metadata": {},
   "outputs": [
    {
     "name": "stdout",
     "output_type": "stream",
     "text": [
      "{'name': 'Chelsea Taitano', 'inat_user_login': 'chelstai'}\n"
     ]
    },
    {
     "data": {
      "application/vnd.jupyter.widget-view+json": {
       "model_id": "cb7638e59632436aab70038ea25f0c39",
       "version_major": 2,
       "version_minor": 0
      },
      "text/plain": [
       "Executing:   0%|          | 0/8 [00:00<?, ?cell/s]"
      ]
     },
     "metadata": {},
     "output_type": "display_data"
    },
    {
     "name": "stdout",
     "output_type": "stream",
     "text": [
      "{'name': 'Risel Uludong', 'inat_user_login': 'uludongr'}\n"
     ]
    },
    {
     "data": {
      "application/vnd.jupyter.widget-view+json": {
       "model_id": "8f3375d0dc924e5eb92af6bba9f78f14",
       "version_major": 2,
       "version_minor": 0
      },
      "text/plain": [
       "Executing:   0%|          | 0/8 [00:00<?, ?cell/s]"
      ]
     },
     "metadata": {},
     "output_type": "display_data"
    },
    {
     "name": "stdout",
     "output_type": "stream",
     "text": [
      "{'name': 'Touraine E. Williams', 'inat_user_login': 'uchan'}\n"
     ]
    },
    {
     "data": {
      "application/vnd.jupyter.widget-view+json": {
       "model_id": "7d553ca1a1404bd7b258fa052c9f28e3",
       "version_major": 2,
       "version_minor": 0
      },
      "text/plain": [
       "Executing:   0%|          | 0/8 [00:00<?, ?cell/s]"
      ]
     },
     "metadata": {},
     "output_type": "display_data"
    },
    {
     "name": "stdout",
     "output_type": "stream",
     "text": [
      "{'name': 'Anela Duenas', 'inat_user_login': 'aneladuenas'}\n"
     ]
    },
    {
     "data": {
      "application/vnd.jupyter.widget-view+json": {
       "model_id": "bb40b4fc3bea4248ab453e80930f0f54",
       "version_major": 2,
       "version_minor": 0
      },
      "text/plain": [
       "Executing:   0%|          | 0/8 [00:00<?, ?cell/s]"
      ]
     },
     "metadata": {},
     "output_type": "display_data"
    },
    {
     "name": "stdout",
     "output_type": "stream",
     "text": [
      "{'name': 'Audrey Marie Santos', 'inat_user_login': 'santosa11828'}\n"
     ]
    },
    {
     "data": {
      "application/vnd.jupyter.widget-view+json": {
       "model_id": "b2f7f348084e4cc6aacce63dab6a01e5",
       "version_major": 2,
       "version_minor": 0
      },
      "text/plain": [
       "Executing:   0%|          | 0/8 [00:00<?, ?cell/s]"
      ]
     },
     "metadata": {},
     "output_type": "display_data"
    },
    {
     "name": "stdout",
     "output_type": "stream",
     "text": [
      "{'name': 'Julia Birn', 'inat_user_login': 'jbirn'}\n"
     ]
    },
    {
     "data": {
      "application/vnd.jupyter.widget-view+json": {
       "model_id": "b2e4c52b64af449dbca01f39d7308bdf",
       "version_major": 2,
       "version_minor": 0
      },
      "text/plain": [
       "Executing:   0%|          | 0/8 [00:00<?, ?cell/s]"
      ]
     },
     "metadata": {},
     "output_type": "display_data"
    },
    {
     "name": "stdout",
     "output_type": "stream",
     "text": [
      "{'name': 'Ray Mark Guinto', 'inat_user_login': 'raympguinto'}\n"
     ]
    },
    {
     "data": {
      "application/vnd.jupyter.widget-view+json": {
       "model_id": "043847fb398d476da299d1a32ce09ea1",
       "version_major": 2,
       "version_minor": 0
      },
      "text/plain": [
       "Executing:   0%|          | 0/8 [00:00<?, ?cell/s]"
      ]
     },
     "metadata": {},
     "output_type": "display_data"
    },
    {
     "name": "stdout",
     "output_type": "stream",
     "text": [
      "{'name': 'Stephenie Andriana Santos', 'inat_user_login': 'santoss11532'}\n"
     ]
    },
    {
     "data": {
      "application/vnd.jupyter.widget-view+json": {
       "model_id": "949197bc694b4ee1827efac00436b80c",
       "version_major": 2,
       "version_minor": 0
      },
      "text/plain": [
       "Executing:   0%|          | 0/8 [00:00<?, ?cell/s]"
      ]
     },
     "metadata": {},
     "output_type": "display_data"
    },
    {
     "name": "stdout",
     "output_type": "stream",
     "text": [
      "{'name': 'Rachel Mungon', 'inat_user_login': 'rachelm23'}\n"
     ]
    },
    {
     "data": {
      "application/vnd.jupyter.widget-view+json": {
       "model_id": "769faff9455b408d9a74b70020ce6b0b",
       "version_major": 2,
       "version_minor": 0
      },
      "text/plain": [
       "Executing:   0%|          | 0/8 [00:00<?, ?cell/s]"
      ]
     },
     "metadata": {},
     "output_type": "display_data"
    },
    {
     "name": "stdout",
     "output_type": "stream",
     "text": [
      "{'name': 'Samantha Gilinug', 'inat_user_login': 'samantha1015'}\n"
     ]
    },
    {
     "data": {
      "application/vnd.jupyter.widget-view+json": {
       "model_id": "a8372cd363604a1092932d4c5f1cb61d",
       "version_major": 2,
       "version_minor": 0
      },
      "text/plain": [
       "Executing:   0%|          | 0/8 [00:00<?, ?cell/s]"
      ]
     },
     "metadata": {},
     "output_type": "display_data"
    },
    {
     "name": "stdout",
     "output_type": "stream",
     "text": [
      "{'name': 'Haani Bettis', 'inat_user_login': 'haanibettis'}\n"
     ]
    },
    {
     "data": {
      "application/vnd.jupyter.widget-view+json": {
       "model_id": "2b84e43104da4f229dc8ff9efd486a5a",
       "version_major": 2,
       "version_minor": 0
      },
      "text/plain": [
       "Executing:   0%|          | 0/8 [00:00<?, ?cell/s]"
      ]
     },
     "metadata": {},
     "output_type": "display_data"
    },
    {
     "name": "stdout",
     "output_type": "stream",
     "text": [
      "{'name': 'Rita Barcinas', 'inat_user_login': 'barcinasrita'}\n"
     ]
    },
    {
     "data": {
      "application/vnd.jupyter.widget-view+json": {
       "model_id": "23a800fcd6b844a0bf7ba71bacb2a0a0",
       "version_major": 2,
       "version_minor": 0
      },
      "text/plain": [
       "Executing:   0%|          | 0/8 [00:00<?, ?cell/s]"
      ]
     },
     "metadata": {},
     "output_type": "display_data"
    },
    {
     "name": "stdout",
     "output_type": "stream",
     "text": [
      "{'name': 'Stewart Johnny', 'inat_user_login': 'stewjohn'}\n"
     ]
    },
    {
     "data": {
      "application/vnd.jupyter.widget-view+json": {
       "model_id": "f674698ac5a743878222471b57f48a6c",
       "version_major": 2,
       "version_minor": 0
      },
      "text/plain": [
       "Executing:   0%|          | 0/8 [00:00<?, ?cell/s]"
      ]
     },
     "metadata": {},
     "output_type": "display_data"
    },
    {
     "name": "stdout",
     "output_type": "stream",
     "text": [
      "{'name': 'Tarsis Maddison', 'inat_user_login': 'maddisont'}\n"
     ]
    },
    {
     "data": {
      "application/vnd.jupyter.widget-view+json": {
       "model_id": "d5fc107464a544edb1bc70f6eb3c491c",
       "version_major": 2,
       "version_minor": 0
      },
      "text/plain": [
       "Executing:   0%|          | 0/8 [00:00<?, ?cell/s]"
      ]
     },
     "metadata": {},
     "output_type": "display_data"
    },
    {
     "name": "stdout",
     "output_type": "stream",
     "text": [
      "{'name': 'Eric Delfin', 'inat_user_login': 'eric1434'}\n"
     ]
    },
    {
     "data": {
      "application/vnd.jupyter.widget-view+json": {
       "model_id": "9dacb1fbe5fc48d5b3c39aff38925701",
       "version_major": 2,
       "version_minor": 0
      },
      "text/plain": [
       "Executing:   0%|          | 0/8 [00:00<?, ?cell/s]"
      ]
     },
     "metadata": {},
     "output_type": "display_data"
    },
    {
     "name": "stdout",
     "output_type": "stream",
     "text": [
      "{'name': 'Daniel Castro', 'inat_user_login': 'castrod'}\n"
     ]
    },
    {
     "data": {
      "application/vnd.jupyter.widget-view+json": {
       "model_id": "b56ba6fbec7548f880f9bb551fc6f9a8",
       "version_major": 2,
       "version_minor": 0
      },
      "text/plain": [
       "Executing:   0%|          | 0/8 [00:00<?, ?cell/s]"
      ]
     },
     "metadata": {},
     "output_type": "display_data"
    },
    {
     "name": "stdout",
     "output_type": "stream",
     "text": [
      "{'name': 'Lawrenz Gaerlon', 'inat_user_login': 'todayis_renz'}\n"
     ]
    },
    {
     "data": {
      "application/vnd.jupyter.widget-view+json": {
       "model_id": "23f4ba97fc834b14ba0a05135673fc8d",
       "version_major": 2,
       "version_minor": 0
      },
      "text/plain": [
       "Executing:   0%|          | 0/8 [00:00<?, ?cell/s]"
      ]
     },
     "metadata": {},
     "output_type": "display_data"
    },
    {
     "name": "stdout",
     "output_type": "stream",
     "text": [
      "{'name': 'Kenneth Bigalbal', 'inat_user_login': 'bigalbalk'}\n"
     ]
    },
    {
     "data": {
      "application/vnd.jupyter.widget-view+json": {
       "model_id": "e55cbbd425cd419f807b19851c382595",
       "version_major": 2,
       "version_minor": 0
      },
      "text/plain": [
       "Executing:   0%|          | 0/8 [00:00<?, ?cell/s]"
      ]
     },
     "metadata": {},
     "output_type": "display_data"
    },
    {
     "name": "stdout",
     "output_type": "stream",
     "text": [
      "{'name': 'Joan Fernandez', 'inat_user_login': 'joanxfrndz'}\n"
     ]
    },
    {
     "data": {
      "application/vnd.jupyter.widget-view+json": {
       "model_id": "2b562ffcf63945f3aeaa1b507317ff53",
       "version_major": 2,
       "version_minor": 0
      },
      "text/plain": [
       "Executing:   0%|          | 0/8 [00:00<?, ?cell/s]"
      ]
     },
     "metadata": {},
     "output_type": "display_data"
    },
    {
     "name": "stdout",
     "output_type": "stream",
     "text": [
      "{'name': 'Kyle Quiambao', 'inat_user_login': 'derpyinsight'}\n"
     ]
    },
    {
     "data": {
      "application/vnd.jupyter.widget-view+json": {
       "model_id": "b1d17babada544cf8c25f36fcabb1d8c",
       "version_major": 2,
       "version_minor": 0
      },
      "text/plain": [
       "Executing:   0%|          | 0/8 [00:00<?, ?cell/s]"
      ]
     },
     "metadata": {},
     "output_type": "display_data"
    },
    {
     "name": "stdout",
     "output_type": "stream",
     "text": [
      "{'name': 'Laura Caser', 'inat_user_login': 'lauracaser'}\n"
     ]
    },
    {
     "data": {
      "application/vnd.jupyter.widget-view+json": {
       "model_id": "c91a25cec7814ef6a26d8be361085fde",
       "version_major": 2,
       "version_minor": 0
      },
      "text/plain": [
       "Executing:   0%|          | 0/8 [00:00<?, ?cell/s]"
      ]
     },
     "metadata": {},
     "output_type": "display_data"
    },
    {
     "name": "stdout",
     "output_type": "stream",
     "text": [
      "{'name': 'Berncie Lizama', 'inat_user_login': 'berncie'}\n"
     ]
    },
    {
     "data": {
      "application/vnd.jupyter.widget-view+json": {
       "model_id": "19140ad3929642c48725d615969654b8",
       "version_major": 2,
       "version_minor": 0
      },
      "text/plain": [
       "Executing:   0%|          | 0/8 [00:00<?, ?cell/s]"
      ]
     },
     "metadata": {},
     "output_type": "display_data"
    }
   ],
   "source": [
    "for i,r in df.iterrows():\n",
    "    r = dict(r)\n",
    "    print(r)\n",
    "    user = r['inat_user_login']\n",
    "    user_full_name = r['name']\n",
    "    try:\n",
    "        pm.execute_notebook('inat_labels1.ipynb',\n",
    "                            f'output/{user_full_name.replace(\" \", \"_\")}.ipynb',\n",
    "                            parameters={\n",
    "                                'INSECTS_OF_MICRONESIA_CSV':INSECTS_OF_MICRONESIA_CSV,\n",
    "                                'USER':user, \n",
    "                                'USER_FULL_NAME': user_full_name,\n",
    "                                'PRINT': 'TRUE'})\n",
    "    except:\n",
    "        continue"
   ]
  },
  {
   "cell_type": "code",
   "execution_count": 25,
   "id": "778beae3-a268-4f98-ac3c-a62252eeaa87",
   "metadata": {},
   "outputs": [
    {
     "name": "stdout",
     "output_type": "stream",
     "text": [
      "Chelsea Taitano   (chelstai)   35\n",
      "Risel Uludong   (uludongr)   35\n",
      "Touraine E. Williams   (uchan)   47\n",
      "Anela Duenas   (aneladuenas)   33\n",
      "Audrey Marie Santos   (santosa11828)   31\n",
      "Julia Birn   (jbirn)   37\n",
      "Ray Mark Guinto   (raympguinto)   37\n",
      "Stephenie Andriana Santos   (santoss11532)   36\n",
      "Rachel Mungon   (rachelm23)   20\n",
      "Samantha Gilinug   (samantha1015)   24\n",
      "Haani Bettis   (haanibettis)   51\n",
      "Rita Barcinas   (barcinasrita)   1\n",
      "Stewart Johnny   (stewjohn)   35\n",
      "Tarsis Maddison   (maddisont)   0\n",
      "Eric Delfin   (eric1434)   3\n",
      "Daniel Castro   (castrod)   30\n",
      "Lawrenz Gaerlon   (todayis_renz)   43\n",
      "Kenneth Bigalbal   (bigalbalk)   23\n",
      "Joan Fernandez   (joanxfrndz)   24\n",
      "Kyle Quiambao   (derpyinsight)   37\n",
      "Laura Caser   (lauracaser)   93\n",
      "Berncie Lizama   (berncie)   4\n"
     ]
    }
   ],
   "source": [
    "df = pd.read_csv('albi345-2021.csv')\n",
    "df_data = pd.read_csv(INSECTS_OF_MICRONESIA_CSV)\n",
    "\n",
    "for i, r in df.iterrows():\n",
    "    print(f\"{r['name']}   ({r.inat_user_login})   {sum(df_data.user_login==r.inat_user_login)}\")"
   ]
  },
  {
   "cell_type": "code",
   "execution_count": 26,
   "id": "467b1384-f972-4041-bcdc-301e5a1643ad",
   "metadata": {},
   "outputs": [
    {
     "data": {
      "text/plain": [
       "user_login\n",
       "aneladuenas                33\n",
       "asanuma                     1\n",
       "aubreymoore                 3\n",
       "barcinasrita                1\n",
       "berncie                     4\n",
       "bigalbalk                  23\n",
       "castrod                    30\n",
       "chelstai                   35\n",
       "derpyinsight               37\n",
       "entomologist_of_mystery    63\n",
       "eric1434                    3\n",
       "haanibettis                51\n",
       "jakemanuel                  1\n",
       "jbirn                      37\n",
       "joanxfrndz                 24\n",
       "keandra24                   6\n",
       "lauracaser                 93\n",
       "leeroysablan               15\n",
       "rachelm23                  20\n",
       "raympguinto                37\n",
       "samantha1015               24\n",
       "santosa11828               31\n",
       "santoss11532               36\n",
       "stewjohn                   35\n",
       "thatbeeguyrosario           1\n",
       "todayis_renz               43\n",
       "uchan                      47\n",
       "uludongr                   35\n",
       "Name: id, dtype: int64"
      ]
     },
     "execution_count": 26,
     "metadata": {},
     "output_type": "execute_result"
    }
   ],
   "source": [
    "df_data.groupby('user_login').id.count()"
   ]
  }
 ],
 "metadata": {
  "kernelspec": {
   "display_name": "Python 3",
   "language": "python",
   "name": "python3"
  },
  "language_info": {
   "codemirror_mode": {
    "name": "ipython",
    "version": 3
   },
   "file_extension": ".py",
   "mimetype": "text/x-python",
   "name": "python",
   "nbconvert_exporter": "python",
   "pygments_lexer": "ipython3",
   "version": "3.8.8"
  }
 },
 "nbformat": 4,
 "nbformat_minor": 5
}
