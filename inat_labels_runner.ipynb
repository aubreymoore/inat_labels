{
 "cells": [
  {
   "cell_type": "markdown",
   "id": "cf63cb1d-00bc-4495-a40c-f2933cc3f903",
   "metadata": {},
   "source": [
    "First step is to download a CSV file containing all the data for the **Insects of Micronesia** iNaturalist project.\n",
    "This is currently done manually following these steps:\n",
    "* Export observations | csv\n",
    "* Under **Choose columns** select all for **Basic, Geo, Taxon extras**\n",
    "* Press the **Create export** button\n",
    "* Press the **Receive an email with your data\n",
    "\n",
    "Update the parameter below."
   ]
  },
  {
   "cell_type": "code",
   "execution_count": 1,
   "id": "abd17ef2-d3bd-4779-9e08-22ada480f01e",
   "metadata": {},
   "outputs": [],
   "source": [
    "INSECTS_OF_MICRONESIA_CSV = 'observations-194224.csv'"
   ]
  },
  {
   "cell_type": "code",
   "execution_count": 2,
   "id": "a778831b",
   "metadata": {},
   "outputs": [],
   "source": [
    "import pandas as pd\n",
    "import papermill as pm"
   ]
  },
  {
   "cell_type": "code",
   "execution_count": 3,
   "id": "6a1f5f61",
   "metadata": {},
   "outputs": [
    {
     "data": {
      "text/html": [
       "<div>\n",
       "<style scoped>\n",
       "    .dataframe tbody tr th:only-of-type {\n",
       "        vertical-align: middle;\n",
       "    }\n",
       "\n",
       "    .dataframe tbody tr th {\n",
       "        vertical-align: top;\n",
       "    }\n",
       "\n",
       "    .dataframe thead th {\n",
       "        text-align: right;\n",
       "    }\n",
       "</style>\n",
       "<table border=\"1\" class=\"dataframe\">\n",
       "  <thead>\n",
       "    <tr style=\"text-align: right;\">\n",
       "      <th></th>\n",
       "      <th>name</th>\n",
       "      <th>inat_user_login</th>\n",
       "    </tr>\n",
       "  </thead>\n",
       "  <tbody>\n",
       "    <tr>\n",
       "      <th>0</th>\n",
       "      <td>Chelsea Taitano</td>\n",
       "      <td>chelstai</td>\n",
       "    </tr>\n",
       "    <tr>\n",
       "      <th>1</th>\n",
       "      <td>Risel Uludong</td>\n",
       "      <td>uludongr</td>\n",
       "    </tr>\n",
       "    <tr>\n",
       "      <th>2</th>\n",
       "      <td>Touraine E. Williams</td>\n",
       "      <td>uchan</td>\n",
       "    </tr>\n",
       "    <tr>\n",
       "      <th>3</th>\n",
       "      <td>Anela Duenas</td>\n",
       "      <td>aneladuenas</td>\n",
       "    </tr>\n",
       "    <tr>\n",
       "      <th>4</th>\n",
       "      <td>Audrey Marie Santos</td>\n",
       "      <td>santosa11828</td>\n",
       "    </tr>\n",
       "    <tr>\n",
       "      <th>5</th>\n",
       "      <td>Julia Birn</td>\n",
       "      <td>jbirn</td>\n",
       "    </tr>\n",
       "    <tr>\n",
       "      <th>6</th>\n",
       "      <td>Ray Mark Guinto</td>\n",
       "      <td>raympguinto</td>\n",
       "    </tr>\n",
       "    <tr>\n",
       "      <th>7</th>\n",
       "      <td>Stephenie Andriana Santos</td>\n",
       "      <td>santoss11532</td>\n",
       "    </tr>\n",
       "    <tr>\n",
       "      <th>8</th>\n",
       "      <td>Rachel Mungon</td>\n",
       "      <td>rachelm23</td>\n",
       "    </tr>\n",
       "    <tr>\n",
       "      <th>9</th>\n",
       "      <td>Samantha Gilinug</td>\n",
       "      <td>samantha1015</td>\n",
       "    </tr>\n",
       "    <tr>\n",
       "      <th>10</th>\n",
       "      <td>Haani Bettis</td>\n",
       "      <td>haanibettis</td>\n",
       "    </tr>\n",
       "    <tr>\n",
       "      <th>11</th>\n",
       "      <td>Rita Barcinas</td>\n",
       "      <td>barcinasrita</td>\n",
       "    </tr>\n",
       "    <tr>\n",
       "      <th>12</th>\n",
       "      <td>Stewart Johnny</td>\n",
       "      <td>stewjohn</td>\n",
       "    </tr>\n",
       "    <tr>\n",
       "      <th>13</th>\n",
       "      <td>Tarsis Maddison</td>\n",
       "      <td>maddisont</td>\n",
       "    </tr>\n",
       "    <tr>\n",
       "      <th>14</th>\n",
       "      <td>Eric Delfin</td>\n",
       "      <td>eric1434</td>\n",
       "    </tr>\n",
       "    <tr>\n",
       "      <th>15</th>\n",
       "      <td>Daniel Castro</td>\n",
       "      <td>castrod</td>\n",
       "    </tr>\n",
       "    <tr>\n",
       "      <th>16</th>\n",
       "      <td>Lawrenz Gaerlon</td>\n",
       "      <td>todayis_renz</td>\n",
       "    </tr>\n",
       "    <tr>\n",
       "      <th>17</th>\n",
       "      <td>Kenneth Bigalbal</td>\n",
       "      <td>bigalbalk</td>\n",
       "    </tr>\n",
       "    <tr>\n",
       "      <th>18</th>\n",
       "      <td>Joan Fernandez</td>\n",
       "      <td>joanxfrndz</td>\n",
       "    </tr>\n",
       "    <tr>\n",
       "      <th>19</th>\n",
       "      <td>Kyle Quiambao</td>\n",
       "      <td>derpyinsight</td>\n",
       "    </tr>\n",
       "    <tr>\n",
       "      <th>20</th>\n",
       "      <td>Laura Caser</td>\n",
       "      <td>lauracaser</td>\n",
       "    </tr>\n",
       "    <tr>\n",
       "      <th>21</th>\n",
       "      <td>Berncie Lizama</td>\n",
       "      <td>berncie</td>\n",
       "    </tr>\n",
       "  </tbody>\n",
       "</table>\n",
       "</div>"
      ],
      "text/plain": [
       "                         name inat_user_login\n",
       "0             Chelsea Taitano        chelstai\n",
       "1               Risel Uludong        uludongr\n",
       "2        Touraine E. Williams           uchan\n",
       "3                Anela Duenas     aneladuenas\n",
       "4         Audrey Marie Santos    santosa11828\n",
       "5                  Julia Birn           jbirn\n",
       "6             Ray Mark Guinto     raympguinto\n",
       "7   Stephenie Andriana Santos    santoss11532\n",
       "8               Rachel Mungon       rachelm23\n",
       "9            Samantha Gilinug    samantha1015\n",
       "10               Haani Bettis     haanibettis\n",
       "11              Rita Barcinas    barcinasrita\n",
       "12             Stewart Johnny        stewjohn\n",
       "13            Tarsis Maddison       maddisont\n",
       "14                Eric Delfin        eric1434\n",
       "15              Daniel Castro         castrod\n",
       "16            Lawrenz Gaerlon    todayis_renz\n",
       "17           Kenneth Bigalbal       bigalbalk\n",
       "18             Joan Fernandez      joanxfrndz\n",
       "19              Kyle Quiambao    derpyinsight\n",
       "20                Laura Caser      lauracaser\n",
       "21             Berncie Lizama         berncie"
      ]
     },
     "execution_count": 3,
     "metadata": {},
     "output_type": "execute_result"
    }
   ],
   "source": [
    "# Read a list ofstudents and their iNat user names.\n",
    "\n",
    "df = pd.read_csv('albi345-2021.csv')\n",
    "df"
   ]
  },
  {
   "cell_type": "raw",
   "id": "201ff73f-7f36-49a2-97c2-e76bb3658385",
   "metadata": {},
   "source": [
    "!jupyter nbextension enable --py widgetsnbextension"
   ]
  },
  {
   "cell_type": "code",
   "execution_count": 4,
   "id": "08bae37e",
   "metadata": {},
   "outputs": [
    {
     "name": "stdout",
     "output_type": "stream",
     "text": [
      "{'name': 'Chelsea Taitano', 'inat_user_login': 'chelstai'}\n"
     ]
    },
    {
     "data": {
      "application/vnd.jupyter.widget-view+json": {
       "model_id": "d1c1981d5515447ca1541c4cc96e55fa",
       "version_major": 2,
       "version_minor": 0
      },
      "text/plain": [
       "Executing:   0%|          | 0/8 [00:00<?, ?cell/s]"
      ]
     },
     "metadata": {},
     "output_type": "display_data"
    },
    {
     "name": "stdout",
     "output_type": "stream",
     "text": [
      "{'name': 'Risel Uludong', 'inat_user_login': 'uludongr'}\n"
     ]
    },
    {
     "data": {
      "application/vnd.jupyter.widget-view+json": {
       "model_id": "1445371c1e9547319870ce2b3add8cb9",
       "version_major": 2,
       "version_minor": 0
      },
      "text/plain": [
       "Executing:   0%|          | 0/8 [00:00<?, ?cell/s]"
      ]
     },
     "metadata": {},
     "output_type": "display_data"
    },
    {
     "name": "stdout",
     "output_type": "stream",
     "text": [
      "{'name': 'Touraine E. Williams', 'inat_user_login': 'uchan'}\n"
     ]
    },
    {
     "data": {
      "application/vnd.jupyter.widget-view+json": {
       "model_id": "723f92c32a304e5d8ff3a5bc04bfc8ca",
       "version_major": 2,
       "version_minor": 0
      },
      "text/plain": [
       "Executing:   0%|          | 0/8 [00:00<?, ?cell/s]"
      ]
     },
     "metadata": {},
     "output_type": "display_data"
    },
    {
     "name": "stdout",
     "output_type": "stream",
     "text": [
      "{'name': 'Anela Duenas', 'inat_user_login': 'aneladuenas'}\n"
     ]
    },
    {
     "data": {
      "application/vnd.jupyter.widget-view+json": {
       "model_id": "5aad004e5af9409abbcfb5c951e45503",
       "version_major": 2,
       "version_minor": 0
      },
      "text/plain": [
       "Executing:   0%|          | 0/8 [00:00<?, ?cell/s]"
      ]
     },
     "metadata": {},
     "output_type": "display_data"
    },
    {
     "name": "stdout",
     "output_type": "stream",
     "text": [
      "{'name': 'Audrey Marie Santos', 'inat_user_login': 'santosa11828'}\n"
     ]
    },
    {
     "data": {
      "application/vnd.jupyter.widget-view+json": {
       "model_id": "cc1669206ff44898b2fbded8fc965180",
       "version_major": 2,
       "version_minor": 0
      },
      "text/plain": [
       "Executing:   0%|          | 0/8 [00:00<?, ?cell/s]"
      ]
     },
     "metadata": {},
     "output_type": "display_data"
    },
    {
     "name": "stdout",
     "output_type": "stream",
     "text": [
      "{'name': 'Julia Birn', 'inat_user_login': 'jbirn'}\n"
     ]
    },
    {
     "data": {
      "application/vnd.jupyter.widget-view+json": {
       "model_id": "993b6d29307445ff9e3590bafc9ef126",
       "version_major": 2,
       "version_minor": 0
      },
      "text/plain": [
       "Executing:   0%|          | 0/8 [00:00<?, ?cell/s]"
      ]
     },
     "metadata": {},
     "output_type": "display_data"
    },
    {
     "name": "stdout",
     "output_type": "stream",
     "text": [
      "{'name': 'Ray Mark Guinto', 'inat_user_login': 'raympguinto'}\n"
     ]
    },
    {
     "data": {
      "application/vnd.jupyter.widget-view+json": {
       "model_id": "cb65abf2c8de472a9211d26b94aec7e9",
       "version_major": 2,
       "version_minor": 0
      },
      "text/plain": [
       "Executing:   0%|          | 0/8 [00:00<?, ?cell/s]"
      ]
     },
     "metadata": {},
     "output_type": "display_data"
    },
    {
     "name": "stdout",
     "output_type": "stream",
     "text": [
      "{'name': 'Stephenie Andriana Santos', 'inat_user_login': 'santoss11532'}\n"
     ]
    },
    {
     "data": {
      "application/vnd.jupyter.widget-view+json": {
       "model_id": "749514a21fac44a9bd97132d465e3b0c",
       "version_major": 2,
       "version_minor": 0
      },
      "text/plain": [
       "Executing:   0%|          | 0/8 [00:00<?, ?cell/s]"
      ]
     },
     "metadata": {},
     "output_type": "display_data"
    },
    {
     "name": "stdout",
     "output_type": "stream",
     "text": [
      "{'name': 'Rachel Mungon', 'inat_user_login': 'rachelm23'}\n"
     ]
    },
    {
     "data": {
      "application/vnd.jupyter.widget-view+json": {
       "model_id": "60c3ba0866634fe78f0efb27fccac6d6",
       "version_major": 2,
       "version_minor": 0
      },
      "text/plain": [
       "Executing:   0%|          | 0/8 [00:00<?, ?cell/s]"
      ]
     },
     "metadata": {},
     "output_type": "display_data"
    },
    {
     "name": "stdout",
     "output_type": "stream",
     "text": [
      "{'name': 'Samantha Gilinug', 'inat_user_login': 'samantha1015'}\n"
     ]
    },
    {
     "data": {
      "application/vnd.jupyter.widget-view+json": {
       "model_id": "f7ad9fd8bc864b7aae7cb09ac87d195d",
       "version_major": 2,
       "version_minor": 0
      },
      "text/plain": [
       "Executing:   0%|          | 0/8 [00:00<?, ?cell/s]"
      ]
     },
     "metadata": {},
     "output_type": "display_data"
    },
    {
     "name": "stdout",
     "output_type": "stream",
     "text": [
      "{'name': 'Haani Bettis', 'inat_user_login': 'haanibettis'}\n"
     ]
    },
    {
     "data": {
      "application/vnd.jupyter.widget-view+json": {
       "model_id": "e76f84d8edd7468499d25bff6cc8cd00",
       "version_major": 2,
       "version_minor": 0
      },
      "text/plain": [
       "Executing:   0%|          | 0/8 [00:00<?, ?cell/s]"
      ]
     },
     "metadata": {},
     "output_type": "display_data"
    },
    {
     "name": "stdout",
     "output_type": "stream",
     "text": [
      "{'name': 'Rita Barcinas', 'inat_user_login': 'barcinasrita'}\n"
     ]
    },
    {
     "data": {
      "application/vnd.jupyter.widget-view+json": {
       "model_id": "31b3bd36710a4de7b5a863ba2472fc9d",
       "version_major": 2,
       "version_minor": 0
      },
      "text/plain": [
       "Executing:   0%|          | 0/8 [00:00<?, ?cell/s]"
      ]
     },
     "metadata": {},
     "output_type": "display_data"
    },
    {
     "name": "stdout",
     "output_type": "stream",
     "text": [
      "{'name': 'Stewart Johnny', 'inat_user_login': 'stewjohn'}\n"
     ]
    },
    {
     "data": {
      "application/vnd.jupyter.widget-view+json": {
       "model_id": "40946703dd6e4659a3536d9d8e14215f",
       "version_major": 2,
       "version_minor": 0
      },
      "text/plain": [
       "Executing:   0%|          | 0/8 [00:00<?, ?cell/s]"
      ]
     },
     "metadata": {},
     "output_type": "display_data"
    },
    {
     "name": "stdout",
     "output_type": "stream",
     "text": [
      "{'name': 'Tarsis Maddison', 'inat_user_login': 'maddisont'}\n"
     ]
    },
    {
     "data": {
      "application/vnd.jupyter.widget-view+json": {
       "model_id": "6ccb78a2b4864901b0d607c23a7074da",
       "version_major": 2,
       "version_minor": 0
      },
      "text/plain": [
       "Executing:   0%|          | 0/8 [00:00<?, ?cell/s]"
      ]
     },
     "metadata": {},
     "output_type": "display_data"
    },
    {
     "name": "stdout",
     "output_type": "stream",
     "text": [
      "{'name': 'Eric Delfin', 'inat_user_login': 'eric1434'}\n"
     ]
    },
    {
     "data": {
      "application/vnd.jupyter.widget-view+json": {
       "model_id": "44dd2921d6a74369ac5526c90ad38509",
       "version_major": 2,
       "version_minor": 0
      },
      "text/plain": [
       "Executing:   0%|          | 0/8 [00:00<?, ?cell/s]"
      ]
     },
     "metadata": {},
     "output_type": "display_data"
    },
    {
     "name": "stdout",
     "output_type": "stream",
     "text": [
      "{'name': 'Daniel Castro', 'inat_user_login': 'castrod'}\n"
     ]
    },
    {
     "data": {
      "application/vnd.jupyter.widget-view+json": {
       "model_id": "675cb71b93104beab0a621ea4fff0e61",
       "version_major": 2,
       "version_minor": 0
      },
      "text/plain": [
       "Executing:   0%|          | 0/8 [00:00<?, ?cell/s]"
      ]
     },
     "metadata": {},
     "output_type": "display_data"
    },
    {
     "name": "stdout",
     "output_type": "stream",
     "text": [
      "{'name': 'Lawrenz Gaerlon', 'inat_user_login': 'todayis_renz'}\n"
     ]
    },
    {
     "data": {
      "application/vnd.jupyter.widget-view+json": {
       "model_id": "c9f90ba09d514cbc9303f3fde2cc4c92",
       "version_major": 2,
       "version_minor": 0
      },
      "text/plain": [
       "Executing:   0%|          | 0/8 [00:00<?, ?cell/s]"
      ]
     },
     "metadata": {},
     "output_type": "display_data"
    },
    {
     "name": "stdout",
     "output_type": "stream",
     "text": [
      "{'name': 'Kenneth Bigalbal', 'inat_user_login': 'bigalbalk'}\n"
     ]
    },
    {
     "data": {
      "application/vnd.jupyter.widget-view+json": {
       "model_id": "30702477072f4dc98f6d203ad76e9d6c",
       "version_major": 2,
       "version_minor": 0
      },
      "text/plain": [
       "Executing:   0%|          | 0/8 [00:00<?, ?cell/s]"
      ]
     },
     "metadata": {},
     "output_type": "display_data"
    },
    {
     "name": "stdout",
     "output_type": "stream",
     "text": [
      "{'name': 'Joan Fernandez', 'inat_user_login': 'joanxfrndz'}\n"
     ]
    },
    {
     "data": {
      "application/vnd.jupyter.widget-view+json": {
       "model_id": "3052c17e22644871a7a8d5bdd93db267",
       "version_major": 2,
       "version_minor": 0
      },
      "text/plain": [
       "Executing:   0%|          | 0/8 [00:00<?, ?cell/s]"
      ]
     },
     "metadata": {},
     "output_type": "display_data"
    },
    {
     "name": "stdout",
     "output_type": "stream",
     "text": [
      "{'name': 'Kyle Quiambao', 'inat_user_login': 'derpyinsight'}\n"
     ]
    },
    {
     "data": {
      "application/vnd.jupyter.widget-view+json": {
       "model_id": "6204dcddbb08441dbd1166ec59b6efc5",
       "version_major": 2,
       "version_minor": 0
      },
      "text/plain": [
       "Executing:   0%|          | 0/8 [00:00<?, ?cell/s]"
      ]
     },
     "metadata": {},
     "output_type": "display_data"
    },
    {
     "name": "stdout",
     "output_type": "stream",
     "text": [
      "{'name': 'Laura Caser', 'inat_user_login': 'lauracaser'}\n"
     ]
    },
    {
     "data": {
      "application/vnd.jupyter.widget-view+json": {
       "model_id": "c3be6c74a5f74872925e2fe1bfec22f9",
       "version_major": 2,
       "version_minor": 0
      },
      "text/plain": [
       "Executing:   0%|          | 0/8 [00:00<?, ?cell/s]"
      ]
     },
     "metadata": {},
     "output_type": "display_data"
    },
    {
     "name": "stdout",
     "output_type": "stream",
     "text": [
      "{'name': 'Berncie Lizama', 'inat_user_login': 'berncie'}\n"
     ]
    },
    {
     "data": {
      "application/vnd.jupyter.widget-view+json": {
       "model_id": "e654d221b86f411688b06bd5c021c546",
       "version_major": 2,
       "version_minor": 0
      },
      "text/plain": [
       "Executing:   0%|          | 0/8 [00:00<?, ?cell/s]"
      ]
     },
     "metadata": {},
     "output_type": "display_data"
    }
   ],
   "source": [
    "for i,r in df.iterrows():\n",
    "    r = dict(r)\n",
    "    print(r)\n",
    "    user = r['inat_user_login']\n",
    "    user_full_name = r['name']\n",
    "    try:\n",
    "        pm.execute_notebook('inat_labels1.ipynb',\n",
    "                            f'output/{user_full_name.replace(\" \", \"_\")}.ipynb',\n",
    "                            parameters={\n",
    "                                'INSECTS_OF_MICRONESIA_CSV':INSECTS_OF_MICRONESIA_CSV,\n",
    "                                'USER':user, \n",
    "                                'USER_FULL_NAME': user_full_name,\n",
    "                                'PRINT': 'TRUE'})\n",
    "    except:\n",
    "        continue"
   ]
  },
  {
   "cell_type": "code",
   "execution_count": 5,
   "id": "778beae3-a268-4f98-ac3c-a62252eeaa87",
   "metadata": {},
   "outputs": [
    {
     "name": "stdout",
     "output_type": "stream",
     "text": [
      "Chelsea Taitano   (chelstai)   15\n",
      "Risel Uludong   (uludongr)   15\n",
      "Touraine E. Williams   (uchan)   42\n",
      "Anela Duenas   (aneladuenas)   6\n",
      "Audrey Marie Santos   (santosa11828)   9\n",
      "Julia Birn   (jbirn)   32\n",
      "Ray Mark Guinto   (raympguinto)   24\n",
      "Stephenie Andriana Santos   (santoss11532)   20\n",
      "Rachel Mungon   (rachelm23)   0\n",
      "Samantha Gilinug   (samantha1015)   0\n",
      "Haani Bettis   (haanibettis)   6\n",
      "Rita Barcinas   (barcinasrita)   1\n",
      "Stewart Johnny   (stewjohn)   14\n",
      "Tarsis Maddison   (maddisont)   0\n",
      "Eric Delfin   (eric1434)   3\n",
      "Daniel Castro   (castrod)   9\n",
      "Lawrenz Gaerlon   (todayis_renz)   9\n",
      "Kenneth Bigalbal   (bigalbalk)   10\n",
      "Joan Fernandez   (joanxfrndz)   9\n",
      "Kyle Quiambao   (derpyinsight)   26\n",
      "Laura Caser   (lauracaser)   88\n",
      "Berncie Lizama   (berncie)   5\n"
     ]
    }
   ],
   "source": [
    "df = pd.read_csv('albi345-2021.csv')\n",
    "df_data = pd.read_csv(INSECTS_OF_MICRONESIA_CSV)\n",
    "\n",
    "for i, r in df.iterrows():\n",
    "    print(f\"{r['name']}   ({r.inat_user_login})   {sum(df_data.user_login==r.inat_user_login)}\")"
   ]
  },
  {
   "cell_type": "code",
   "execution_count": 6,
   "id": "467b1384-f972-4041-bcdc-301e5a1643ad",
   "metadata": {},
   "outputs": [
    {
     "data": {
      "text/plain": [
       "user_login\n",
       "addieferguson     3\n",
       "agusdwijaya       1\n",
       "ajilai           27\n",
       "aneladuenas       6\n",
       "anmataro         15\n",
       "                 ..\n",
       "umijin            3\n",
       "vanhalen_671     32\n",
       "wsantos671       18\n",
       "zash              1\n",
       "ziabc             5\n",
       "Name: id, Length: 147, dtype: int64"
      ]
     },
     "execution_count": 6,
     "metadata": {},
     "output_type": "execute_result"
    }
   ],
   "source": [
    "df_data.groupby('user_login').id.count()"
   ]
  }
 ],
 "metadata": {
  "kernelspec": {
   "display_name": "Python 3",
   "language": "python",
   "name": "python3"
  },
  "language_info": {
   "codemirror_mode": {
    "name": "ipython",
    "version": 3
   },
   "file_extension": ".py",
   "mimetype": "text/x-python",
   "name": "python",
   "nbconvert_exporter": "python",
   "pygments_lexer": "ipython3",
   "version": "3.8.8"
  }
 },
 "nbformat": 4,
 "nbformat_minor": 5
}
