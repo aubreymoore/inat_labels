{
 "cells": [
  {
   "cell_type": "markdown",
   "id": "f2583102",
   "metadata": {
    "tags": [
     "papermill-error-cell-tag"
    ]
   },
   "source": [
    "<span style=\"color:red; font-family:Helvetica Neue, Helvetica, Arial, sans-serif; font-size:2em;\">An Exception was encountered at '<a href=\"#papermill-error-cell\">In [8]</a>'.</span>"
   ]
  },
  {
   "cell_type": "code",
   "execution_count": 1,
   "id": "527f1b48",
   "metadata": {
    "execution": {
     "iopub.execute_input": "2021-10-03T09:54:16.073117Z",
     "iopub.status.busy": "2021-10-03T09:54:16.071433Z",
     "iopub.status.idle": "2021-10-03T09:54:16.075721Z",
     "shell.execute_reply": "2021-10-03T09:54:16.074431Z"
    },
    "papermill": {
     "duration": 0.035159,
     "end_time": "2021-10-03T09:54:16.076036",
     "exception": false,
     "start_time": "2021-10-03T09:54:16.040877",
     "status": "completed"
    },
    "tags": [
     "parameters"
    ]
   },
   "outputs": [],
   "source": [
    "# This cell is tagged \"parameters\" to enable running this notebook from the command line with papermill\n",
    "# Example usage:\n",
    "# papermill -p USER aubreymoore -p USER_FULL_NAME 'Aubrey Moore' inat_labels.ipynb aubreymoore.ipynb\n",
    "\n",
    "FONT_SIZE = 3.5    # points\n",
    "FONT = 'helvetica'\n",
    "YMIN = 1           # inches\n",
    "LABEL_WIDTH = 1.0  # inches\n",
    "LABEL_HEIGHT = 1.0 # inches\n",
    "XMIN = 0.5         # inches\n",
    "\n",
    "NROWS = 9\n",
    "NCOLS = 7\n",
    "\n",
    "USER = 'aubreymoore'\n",
    "USER_FULL_NAME = 'Aubrey Moore'\n",
    "\n",
    "DESC_MAX_CHARS = 100"
   ]
  },
  {
   "cell_type": "code",
   "execution_count": 2,
   "id": "f627d98a",
   "metadata": {
    "execution": {
     "iopub.execute_input": "2021-10-03T09:54:16.097367Z",
     "iopub.status.busy": "2021-10-03T09:54:16.096827Z",
     "iopub.status.idle": "2021-10-03T09:54:16.098620Z",
     "shell.execute_reply": "2021-10-03T09:54:16.098283Z"
    },
    "papermill": {
     "duration": 0.011146,
     "end_time": "2021-10-03T09:54:16.098729",
     "exception": false,
     "start_time": "2021-10-03T09:54:16.087583",
     "status": "completed"
    },
    "tags": [
     "injected-parameters"
    ]
   },
   "outputs": [],
   "source": [
    "# Parameters\n",
    "USER = \"haanibettis\"\n",
    "USER_FULL_NAME = \"Ha\\u2019\\xe5ni Bettis\"\n"
   ]
  },
  {
   "cell_type": "markdown",
   "id": "f70a75e2",
   "metadata": {
    "papermill": {
     "duration": 0.004684,
     "end_time": "2021-10-03T09:54:16.107599",
     "exception": false,
     "start_time": "2021-10-03T09:54:16.102915",
     "status": "completed"
    },
    "tags": []
   },
   "source": [
    "# TO DO\n",
    "* papermill\n",
    "* add barcode\n",
    "* check on determined by\n",
    "* document code\n",
    "* add page title\n",
    "* add description field"
   ]
  },
  {
   "cell_type": "code",
   "execution_count": 3,
   "id": "fa4a86e7",
   "metadata": {
    "execution": {
     "iopub.execute_input": "2021-10-03T09:54:16.118249Z",
     "iopub.status.busy": "2021-10-03T09:54:16.117896Z",
     "iopub.status.idle": "2021-10-03T09:54:16.137986Z",
     "shell.execute_reply": "2021-10-03T09:54:16.137667Z"
    },
    "papermill": {
     "duration": 0.026331,
     "end_time": "2021-10-03T09:54:16.138089",
     "exception": false,
     "start_time": "2021-10-03T09:54:16.111758",
     "status": "completed"
    },
    "tags": []
   },
   "outputs": [],
   "source": [
    "import subprocess\n",
    "import sqlite3\n",
    "from fpdf import FPDF\n",
    "import qrcode\n",
    "from datetime import datetime"
   ]
  },
  {
   "cell_type": "code",
   "execution_count": 4,
   "id": "9d03dfb3",
   "metadata": {
    "execution": {
     "iopub.execute_input": "2021-10-03T09:54:16.149806Z",
     "iopub.status.busy": "2021-10-03T09:54:16.149416Z",
     "iopub.status.idle": "2021-10-03T09:54:16.151210Z",
     "shell.execute_reply": "2021-10-03T09:54:16.150856Z"
    },
    "papermill": {
     "duration": 0.008936,
     "end_time": "2021-10-03T09:54:16.151304",
     "exception": false,
     "start_time": "2021-10-03T09:54:16.142368",
     "status": "completed"
    },
    "tags": []
   },
   "outputs": [],
   "source": [
    "def add_taxonomy(obs_dict):\n",
    "    ancestry = obs_dict['ancestry'].split('/')\n",
    "    ancestry.append(obs_dict['taxon'])\n",
    "    for t in ancestry:\n",
    "        sql = f'SELECT rank, name FROM taxons WHERE id == {t}'\n",
    "        cursor = conn.execute(sql)\n",
    "        for row in cursor:\n",
    "            obs_dict[row[0]] = row[1]\n",
    "\n",
    "# obs_dict = {'observed_on': '2021-08-25',\n",
    "#  'taxon': 145541,\n",
    "#  'species_guess': None,\n",
    "#  'longitude': '144.8007189136',\n",
    "#  'latitude': '13.4301838323',\n",
    "#  'project_ids': '[1627]',\n",
    "#  'ancestry': '48460/1/47120/372739/47158/184884/47822/48091/372853/414448/49995/326181/364082/520020'}\n",
    "# add_taxonomy(mydict)\n",
    "# obs_dict"
   ]
  },
  {
   "cell_type": "code",
   "execution_count": 5,
   "id": "664e2975",
   "metadata": {
    "execution": {
     "iopub.execute_input": "2021-10-03T09:54:16.162602Z",
     "iopub.status.busy": "2021-10-03T09:54:16.162144Z",
     "iopub.status.idle": "2021-10-03T09:54:16.164152Z",
     "shell.execute_reply": "2021-10-03T09:54:16.163745Z"
    },
    "papermill": {
     "duration": 0.009034,
     "end_time": "2021-10-03T09:54:16.164310",
     "exception": false,
     "start_time": "2021-10-03T09:54:16.155276",
     "status": "completed"
    },
    "scrolled": false,
    "tags": []
   },
   "outputs": [],
   "source": [
    "def get_label_data():\n",
    "    data_list = []\n",
    "    sql = \"\"\"\n",
    "    SELECT observations.id, name, rank, observed_on, taxon, place_guess, longitude, latitude, description, project_ids, taxons.ancestry\n",
    "    FROM observations, taxons\n",
    "    WHERE \n",
    "       taxons.id == taxon\n",
    "       AND project_ids LIKE '%1627%'\n",
    "       AND observed_on > '2021-08-01';\n",
    "    \"\"\"\n",
    "    cursor = conn.execute(sql)\n",
    "    for r in cursor:\n",
    "        obs_dict = dict(r)\n",
    "        add_taxonomy(obs_dict)\n",
    "        for key in ['ancestry', 'rank', 'name', 'project_ids', 'taxon']:\n",
    "            del obs_dict[key]\n",
    "        data_list.append(obs_dict)        \n",
    "    return data_list\n",
    "\n",
    "# get_label_data()"
   ]
  },
  {
   "cell_type": "code",
   "execution_count": 6,
   "id": "a7e8793e",
   "metadata": {
    "execution": {
     "iopub.execute_input": "2021-10-03T09:54:16.182458Z",
     "iopub.status.busy": "2021-10-03T09:54:16.181945Z",
     "iopub.status.idle": "2021-10-03T09:54:16.184187Z",
     "shell.execute_reply": "2021-10-03T09:54:16.183846Z"
    },
    "papermill": {
     "duration": 0.016002,
     "end_time": "2021-10-03T09:54:16.184333",
     "exception": false,
     "start_time": "2021-10-03T09:54:16.168331",
     "status": "completed"
    },
    "tags": []
   },
   "outputs": [],
   "source": [
    "class PDF(FPDF):\n",
    "    \n",
    "    def add_label(self, x, y, obs):\n",
    "        self.set_xy(x, y)\n",
    "        self.multi_cell(txt=f'iNAT {obs[\"id\"]}', w=LABEL_WIDTH, ln=2, align='L')\n",
    "        #print(f'1:{self.get_x()} {self.get_y()}')\n",
    "        self.multi_cell(txt=obs['place_guess'], w=LABEL_WIDTH, ln=2, align='L')\n",
    "        #print(f'2:{self.get_x()} {self.get_y()}')\n",
    "        \n",
    "        lat = float(obs['latitude'])\n",
    "        lat = round(lat,6)\n",
    "        if (lat > 0):\n",
    "            lat_suffix = '°N'\n",
    "        else:\n",
    "            lat_suffix = '°S'       \n",
    "        \n",
    "        lon = float(obs['longitude'])\n",
    "        lon = round(lon, 6)\n",
    "        if (lon > 0):\n",
    "            lon_suffix = '°E'\n",
    "        else:\n",
    "            lon_suffix = '°W'\n",
    "        txt = f'{lat}{lat_suffix} {lon}{lon_suffix}' \n",
    "        self.multi_cell(txt=txt, w=LABEL_WIDTH, ln=2, align='L')\n",
    "\n",
    "        txt = obs['description']\n",
    "        if len(txt) > 1:\n",
    "            if len(txt) > DESC_MAX_CHARS:\n",
    "                txt = f'{txt[0:DESC_MAX_CHARS]}...'\n",
    "            self.multi_cell(txt=txt, w=LABEL_WIDTH, ln=2, align='L')\n",
    "       \n",
    "        txt = f'Col. {USER_FULL_NAME} {obs[\"observed_on\"]}'\n",
    "        self.multi_cell(txt=txt, w=LABEL_WIDTH, ln=2, align='L')\n",
    "        \n",
    "        self.multi_cell(txt='---', w=LABEL_WIDTH, ln=2, align='L')\n",
    "        \n",
    "        self.multi_cell(txt=f'iNAT {obs[\"id\"]}', w=LABEL_WIDTH, ln=2, align='L')\n",
    "        \n",
    "        if obs.get('order'):\n",
    "            txt = obs['order'].upper()\n",
    "            self.multi_cell(txt=txt, w=LABEL_WIDTH, ln=2, align='L')\n",
    "            \n",
    "        if obs.get('family'):\n",
    "            txt = f'   {obs[\"family\"].upper()}'\n",
    "            self.multi_cell(txt=txt, w=LABEL_WIDTH, ln=2, align='L')\n",
    "            \n",
    "        if obs.get('species'):   # species binomial available\n",
    "            txt = f'     {obs[\"species\"]}'\n",
    "            self.set_font(style=\"I\")\n",
    "            self.multi_cell(txt=txt, w=LABEL_WIDTH, ln=2, align='L')\n",
    "            self.set_font(style=\"\")\n",
    "        else:\n",
    "            if obs.get('genus'):   # only genus available\n",
    "                txt = f'     {obs[\"genus\"]}'\n",
    "                self.set_font(style=\"I\")\n",
    "                self.multi_cell(txt=txt, w=LABEL_WIDTH, ln=2, align='L')\n",
    "                self.set_font(style=\"\")\n",
    "\n",
    "        # Check on this.\n",
    "        txt = f'Det. {USER_FULL_NAME} {obs[\"observed_on\"]}'\n",
    "        self.multi_cell(txt=txt, w=LABEL_WIDTH, ln=2, align='L')\n",
    "        \n",
    "        # barcode\n",
    "        \n",
    "        self.multi_cell(txt='---', w=LABEL_WIDTH, ln=2, align='L')\n",
    "        self.multi_cell(txt=f'iNAT {obs[\"id\"]}', w=LABEL_WIDTH, ln=2, align='L')\n",
    "        url = f\"https://www.inaturalist.org/observations/{obs['id']}\"\n",
    "        img = qrcode.make(url)\n",
    "        self.image(img.get_image(), w=0.25)"
   ]
  },
  {
   "cell_type": "code",
   "execution_count": 7,
   "id": "053c8559",
   "metadata": {
    "execution": {
     "iopub.execute_input": "2021-10-03T09:54:16.198366Z",
     "iopub.status.busy": "2021-10-03T09:54:16.197999Z",
     "iopub.status.idle": "2021-10-03T09:54:16.199667Z",
     "shell.execute_reply": "2021-10-03T09:54:16.199312Z"
    },
    "papermill": {
     "duration": 0.010515,
     "end_time": "2021-10-03T09:54:16.199764",
     "exception": false,
     "start_time": "2021-10-03T09:54:16.189249",
     "status": "completed"
    },
    "tags": []
   },
   "outputs": [],
   "source": [
    "def generate_labels():\n",
    "\n",
    "    pdf = PDF(orientation=\"P\", unit=\"in\", format=\"Letter\")\n",
    "    pdf.set_font(family=FONT, size=FONT_SIZE)\n",
    "    \n",
    "    n = len(data_list)\n",
    "    i = 0\n",
    "    pages = 1 + n // (NROWS * NCOLS)\n",
    "    for p in range(pages):\n",
    "        print(f'Adding page {p}')\n",
    "        pdf.add_page()\n",
    "        txt=f'{USER_FULL_NAME}          Page {p+1} of {pages}          {datetime.now()}'\n",
    "        pdf.set_font(size=14)\n",
    "        pdf.multi_cell(txt=txt, w = 6)\n",
    "        pdf.set_font(size=FONT_SIZE)\n",
    "        r = 0\n",
    "        c = 0\n",
    "        for r in range(NROWS):\n",
    "            y = YMIN + r * LABEL_HEIGHT\n",
    "            for c in range(NCOLS):\n",
    "                x = XMIN + c * LABEL_WIDTH\n",
    "#                 print(f'{i} {p} {r} {c} {x} {y}')\n",
    "#                 print(data_list[i])\n",
    "                pdf.add_label(x, y, data_list[i])\n",
    "                i += 1\n",
    "                if i == n:\n",
    "                    print(f\"writing {pdf_filename}\")\n",
    "                    pdf.output(pdf_filename)\n",
    "                    return\n",
    "                \n",
    "#generate_labels()"
   ]
  },
  {
   "cell_type": "markdown",
   "id": "7e783d56",
   "metadata": {
    "tags": [
     "papermill-error-cell-tag"
    ]
   },
   "source": [
    "<span id=\"papermill-error-cell\" style=\"color:red; font-family:Helvetica Neue, Helvetica, Arial, sans-serif; font-size:2em;\">Execution using papermill encountered an exception here and stopped:</span>"
   ]
  },
  {
   "cell_type": "code",
   "execution_count": 8,
   "id": "a5fb7366",
   "metadata": {
    "execution": {
     "iopub.execute_input": "2021-10-03T09:54:16.211975Z",
     "iopub.status.busy": "2021-10-03T09:54:16.211611Z",
     "iopub.status.idle": "2021-10-03T09:54:21.835899Z",
     "shell.execute_reply": "2021-10-03T09:54:21.835235Z"
    },
    "papermill": {
     "duration": 5.632106,
     "end_time": "2021-10-03T09:54:21.836066",
     "exception": true,
     "start_time": "2021-10-03T09:54:16.203960",
     "status": "failed"
    },
    "tags": []
   },
   "outputs": [
    {
     "name": "stdout",
     "output_type": "stream",
     "text": [
      "Downloading data from iNaturalist. This may take a few minutes.\n"
     ]
    },
    {
     "name": "stdout",
     "output_type": "stream",
     "text": [
      "CompletedProcess(args=['inaturalist-to-sqlite', 'Ha’åni_Bettis.db', 'haanibettis'], returncode=0)\n",
      "Adding page 0\n"
     ]
    },
    {
     "ename": "UnicodeEncodeError",
     "evalue": "'latin-1' codec can't encode character '\\u2019' in position 2: ordinal not in range(256)",
     "output_type": "error",
     "traceback": [
      "\u001b[0;31m---------------------------------------------------------------------------\u001b[0m",
      "\u001b[0;31mUnicodeEncodeError\u001b[0m                        Traceback (most recent call last)",
      "\u001b[0;32m<ipython-input-8-1fd172ed5059>\u001b[0m in \u001b[0;36m<module>\u001b[0;34m\u001b[0m\n\u001b[1;32m     17\u001b[0m \u001b[0;34m\u001b[0m\u001b[0m\n\u001b[1;32m     18\u001b[0m \u001b[0mpdf_filename\u001b[0m \u001b[0;34m=\u001b[0m \u001b[0mdb_filename\u001b[0m\u001b[0;34m.\u001b[0m\u001b[0mreplace\u001b[0m\u001b[0;34m(\u001b[0m\u001b[0;34m'.db'\u001b[0m\u001b[0;34m,\u001b[0m \u001b[0;34m'.pdf'\u001b[0m\u001b[0;34m)\u001b[0m\u001b[0;34m\u001b[0m\u001b[0;34m\u001b[0m\u001b[0m\n\u001b[0;32m---> 19\u001b[0;31m \u001b[0mgenerate_labels\u001b[0m\u001b[0;34m(\u001b[0m\u001b[0;34m)\u001b[0m\u001b[0;34m\u001b[0m\u001b[0;34m\u001b[0m\u001b[0m\n\u001b[0m\u001b[1;32m     20\u001b[0m \u001b[0;34m\u001b[0m\u001b[0m\n\u001b[1;32m     21\u001b[0m \u001b[0mprint\u001b[0m\u001b[0;34m(\u001b[0m\u001b[0;34m'FINISHED'\u001b[0m\u001b[0;34m)\u001b[0m\u001b[0;34m\u001b[0m\u001b[0;34m\u001b[0m\u001b[0m\n",
      "\u001b[0;32m<ipython-input-7-914470cd68b0>\u001b[0m in \u001b[0;36mgenerate_labels\u001b[0;34m()\u001b[0m\n\u001b[1;32m     12\u001b[0m         \u001b[0mtxt\u001b[0m\u001b[0;34m=\u001b[0m\u001b[0;34mf'{USER_FULL_NAME}          Page {p+1} of {pages}          {datetime.now()}'\u001b[0m\u001b[0;34m\u001b[0m\u001b[0;34m\u001b[0m\u001b[0m\n\u001b[1;32m     13\u001b[0m         \u001b[0mpdf\u001b[0m\u001b[0;34m.\u001b[0m\u001b[0mset_font\u001b[0m\u001b[0;34m(\u001b[0m\u001b[0msize\u001b[0m\u001b[0;34m=\u001b[0m\u001b[0;36m14\u001b[0m\u001b[0;34m)\u001b[0m\u001b[0;34m\u001b[0m\u001b[0;34m\u001b[0m\u001b[0m\n\u001b[0;32m---> 14\u001b[0;31m         \u001b[0mpdf\u001b[0m\u001b[0;34m.\u001b[0m\u001b[0mmulti_cell\u001b[0m\u001b[0;34m(\u001b[0m\u001b[0mtxt\u001b[0m\u001b[0;34m=\u001b[0m\u001b[0mtxt\u001b[0m\u001b[0;34m,\u001b[0m \u001b[0mw\u001b[0m \u001b[0;34m=\u001b[0m \u001b[0;36m6\u001b[0m\u001b[0;34m)\u001b[0m\u001b[0;34m\u001b[0m\u001b[0;34m\u001b[0m\u001b[0m\n\u001b[0m\u001b[1;32m     15\u001b[0m         \u001b[0mpdf\u001b[0m\u001b[0;34m.\u001b[0m\u001b[0mset_font\u001b[0m\u001b[0;34m(\u001b[0m\u001b[0msize\u001b[0m\u001b[0;34m=\u001b[0m\u001b[0mFONT_SIZE\u001b[0m\u001b[0;34m)\u001b[0m\u001b[0;34m\u001b[0m\u001b[0;34m\u001b[0m\u001b[0m\n\u001b[1;32m     16\u001b[0m         \u001b[0mr\u001b[0m \u001b[0;34m=\u001b[0m \u001b[0;36m0\u001b[0m\u001b[0;34m\u001b[0m\u001b[0;34m\u001b[0m\u001b[0m\n",
      "\u001b[0;32m~/.local/lib/python3.8/site-packages/fpdf/fpdf.py\u001b[0m in \u001b[0;36mwrapper\u001b[0;34m(self, *args, **kwargs)\u001b[0m\n\u001b[1;32m    217\u001b[0m         \u001b[0;32mif\u001b[0m \u001b[0;32mnot\u001b[0m \u001b[0mself\u001b[0m\u001b[0;34m.\u001b[0m\u001b[0mpage\u001b[0m \u001b[0;32mand\u001b[0m \u001b[0;32mnot\u001b[0m \u001b[0mkwargs\u001b[0m\u001b[0;34m.\u001b[0m\u001b[0mget\u001b[0m\u001b[0;34m(\u001b[0m\u001b[0;34m\"split_only\"\u001b[0m\u001b[0;34m)\u001b[0m\u001b[0;34m:\u001b[0m\u001b[0;34m\u001b[0m\u001b[0;34m\u001b[0m\u001b[0m\n\u001b[1;32m    218\u001b[0m             \u001b[0;32mraise\u001b[0m \u001b[0mFPDFException\u001b[0m\u001b[0;34m(\u001b[0m\u001b[0;34m\"No page open, you need to call add_page() first\"\u001b[0m\u001b[0;34m)\u001b[0m\u001b[0;34m\u001b[0m\u001b[0;34m\u001b[0m\u001b[0m\n\u001b[0;32m--> 219\u001b[0;31m         \u001b[0;32mreturn\u001b[0m \u001b[0mfn\u001b[0m\u001b[0;34m(\u001b[0m\u001b[0mself\u001b[0m\u001b[0;34m,\u001b[0m \u001b[0;34m*\u001b[0m\u001b[0margs\u001b[0m\u001b[0;34m,\u001b[0m \u001b[0;34m**\u001b[0m\u001b[0mkwargs\u001b[0m\u001b[0;34m)\u001b[0m\u001b[0;34m\u001b[0m\u001b[0;34m\u001b[0m\u001b[0m\n\u001b[0m\u001b[1;32m    220\u001b[0m \u001b[0;34m\u001b[0m\u001b[0m\n\u001b[1;32m    221\u001b[0m     \u001b[0;32mreturn\u001b[0m \u001b[0mwrapper\u001b[0m\u001b[0;34m\u001b[0m\u001b[0;34m\u001b[0m\u001b[0m\n",
      "\u001b[0;32m~/.local/lib/python3.8/site-packages/fpdf/fpdf.py\u001b[0m in \u001b[0;36mmulti_cell\u001b[0;34m(self, w, h, txt, border, align, fill, split_only, link, ln, max_line_height)\u001b[0m\n\u001b[1;32m   1938\u001b[0m \u001b[0;34m\u001b[0m\u001b[0m\n\u001b[1;32m   1939\u001b[0m         \u001b[0;31m# Calculate text length\u001b[0m\u001b[0;34m\u001b[0m\u001b[0;34m\u001b[0m\u001b[0;34m\u001b[0m\u001b[0m\n\u001b[0;32m-> 1940\u001b[0;31m         \u001b[0mtxt\u001b[0m \u001b[0;34m=\u001b[0m \u001b[0mself\u001b[0m\u001b[0;34m.\u001b[0m\u001b[0mnormalize_text\u001b[0m\u001b[0;34m(\u001b[0m\u001b[0mtxt\u001b[0m\u001b[0;34m)\u001b[0m\u001b[0;34m\u001b[0m\u001b[0;34m\u001b[0m\u001b[0m\n\u001b[0m\u001b[1;32m   1941\u001b[0m         \u001b[0ms\u001b[0m \u001b[0;34m=\u001b[0m \u001b[0mtxt\u001b[0m\u001b[0;34m.\u001b[0m\u001b[0mreplace\u001b[0m\u001b[0;34m(\u001b[0m\u001b[0;34m\"\\r\"\u001b[0m\u001b[0;34m,\u001b[0m \u001b[0;34m\"\"\u001b[0m\u001b[0;34m)\u001b[0m\u001b[0;34m\u001b[0m\u001b[0;34m\u001b[0m\u001b[0m\n\u001b[1;32m   1942\u001b[0m         \u001b[0mnormalized_string_length\u001b[0m \u001b[0;34m=\u001b[0m \u001b[0mlen\u001b[0m\u001b[0;34m(\u001b[0m\u001b[0ms\u001b[0m\u001b[0;34m)\u001b[0m\u001b[0;34m\u001b[0m\u001b[0;34m\u001b[0m\u001b[0m\n",
      "\u001b[0;32m~/.local/lib/python3.8/site-packages/fpdf/fpdf.py\u001b[0m in \u001b[0;36mnormalize_text\u001b[0;34m(self, txt)\u001b[0m\n\u001b[1;32m   2414\u001b[0m         \u001b[0;31m# - for built-in fonts: string instances (encoding: latin-1, cp1252)\u001b[0m\u001b[0;34m\u001b[0m\u001b[0;34m\u001b[0m\u001b[0;34m\u001b[0m\u001b[0m\n\u001b[1;32m   2415\u001b[0m         \u001b[0;32mif\u001b[0m \u001b[0;32mnot\u001b[0m \u001b[0mself\u001b[0m\u001b[0;34m.\u001b[0m\u001b[0munifontsubset\u001b[0m \u001b[0;32mand\u001b[0m \u001b[0mself\u001b[0m\u001b[0;34m.\u001b[0m\u001b[0mcore_fonts_encoding\u001b[0m\u001b[0;34m:\u001b[0m\u001b[0;34m\u001b[0m\u001b[0;34m\u001b[0m\u001b[0m\n\u001b[0;32m-> 2416\u001b[0;31m             \u001b[0;32mreturn\u001b[0m \u001b[0mtxt\u001b[0m\u001b[0;34m.\u001b[0m\u001b[0mencode\u001b[0m\u001b[0;34m(\u001b[0m\u001b[0mself\u001b[0m\u001b[0;34m.\u001b[0m\u001b[0mcore_fonts_encoding\u001b[0m\u001b[0;34m)\u001b[0m\u001b[0;34m.\u001b[0m\u001b[0mdecode\u001b[0m\u001b[0;34m(\u001b[0m\u001b[0;34m\"latin-1\"\u001b[0m\u001b[0;34m)\u001b[0m\u001b[0;34m\u001b[0m\u001b[0;34m\u001b[0m\u001b[0m\n\u001b[0m\u001b[1;32m   2417\u001b[0m         \u001b[0;32mreturn\u001b[0m \u001b[0mtxt\u001b[0m\u001b[0;34m\u001b[0m\u001b[0;34m\u001b[0m\u001b[0m\n\u001b[1;32m   2418\u001b[0m \u001b[0;34m\u001b[0m\u001b[0m\n",
      "\u001b[0;31mUnicodeEncodeError\u001b[0m: 'latin-1' codec can't encode character '\\u2019' in position 2: ordinal not in range(256)"
     ]
    }
   ],
   "source": [
    "# MAIN\n",
    "\n",
    "# Download USER observations from the iNaturalist Insects of Micronesia Project as an SQLite database\n",
    "\n",
    "print('Downloading data from iNaturalist. This may take a few minutes.')\n",
    "db_filename = f\"{USER_FULL_NAME.replace(' ', '_')}.db\"\n",
    "result = subprocess.run(['inaturalist-to-sqlite', db_filename, USER]) \n",
    "print(result)\n",
    "\n",
    "# Open the database and extract label data\n",
    "\n",
    "conn = sqlite3.connect(db_filename)\n",
    "conn.row_factory = sqlite3.Row\n",
    "data_list = get_label_data()\n",
    "\n",
    "# Generate labels\n",
    "\n",
    "pdf_filename = db_filename.replace('.db', '.pdf')\n",
    "generate_labels()\n",
    "\n",
    "print('FINISHED')"
   ]
  }
 ],
 "metadata": {
  "kernelspec": {
   "display_name": "Python 3",
   "language": "python",
   "name": "python3"
  },
  "language_info": {
   "codemirror_mode": {
    "name": "ipython",
    "version": 3
   },
   "file_extension": ".py",
   "mimetype": "text/x-python",
   "name": "python",
   "nbconvert_exporter": "python",
   "pygments_lexer": "ipython3",
   "version": "3.8.8"
  },
  "papermill": {
   "default_parameters": {},
   "duration": 6.636346,
   "end_time": "2021-10-03T09:54:22.149337",
   "environment_variables": {},
   "exception": true,
   "input_path": "inat_labels.ipynb",
   "output_path": "Ha’åni_Bettis.ipynb",
   "parameters": {
    "USER": "haanibettis",
    "USER_FULL_NAME": "Ha’åni Bettis"
   },
   "start_time": "2021-10-03T09:54:15.512991",
   "version": "2.3.3"
  }
 },
 "nbformat": 4,
 "nbformat_minor": 5
}