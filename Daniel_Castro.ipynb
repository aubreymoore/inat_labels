{
 "cells": [
  {
   "cell_type": "code",
   "execution_count": 1,
   "id": "527f1b48",
   "metadata": {
    "execution": {
     "iopub.execute_input": "2021-10-03T09:22:53.348140Z",
     "iopub.status.busy": "2021-10-03T09:22:53.347748Z",
     "iopub.status.idle": "2021-10-03T09:22:53.349726Z",
     "shell.execute_reply": "2021-10-03T09:22:53.349242Z"
    },
    "papermill": {
     "duration": 0.013659,
     "end_time": "2021-10-03T09:22:53.349854",
     "exception": false,
     "start_time": "2021-10-03T09:22:53.336195",
     "status": "completed"
    },
    "tags": [
     "parameters"
    ]
   },
   "outputs": [],
   "source": [
    "# This cell is tagged \"parameters\" to enable running this notebook from the command line with papermill\n",
    "# Example usage:\n",
    "# papermill -p USER aubreymoore -p USER_FULL_NAME 'Aubrey Moore' inat_labels.ipynb aubreymoore.ipynb\n",
    "\n",
    "FONT_SIZE = 3.5    # points\n",
    "FONT = 'helvetica'\n",
    "YMIN = 1           # inches\n",
    "LABEL_WIDTH = 1.0  # inches\n",
    "LABEL_HEIGHT = 1.0 # inches\n",
    "XMIN = 0.5         # inches\n",
    "\n",
    "NROWS = 9\n",
    "NCOLS = 7\n",
    "\n",
    "USER = 'aubreymoore'\n",
    "USER_FULL_NAME = 'Aubrey Moore'\n",
    "\n",
    "DESC_MAX_CHARS = 100"
   ]
  },
  {
   "cell_type": "code",
   "execution_count": 2,
   "id": "7711fcdd",
   "metadata": {
    "execution": {
     "iopub.execute_input": "2021-10-03T09:22:53.362244Z",
     "iopub.status.busy": "2021-10-03T09:22:53.361838Z",
     "iopub.status.idle": "2021-10-03T09:22:53.363551Z",
     "shell.execute_reply": "2021-10-03T09:22:53.363823Z"
    },
    "papermill": {
     "duration": 0.008595,
     "end_time": "2021-10-03T09:22:53.363946",
     "exception": false,
     "start_time": "2021-10-03T09:22:53.355351",
     "status": "completed"
    },
    "tags": [
     "injected-parameters"
    ]
   },
   "outputs": [],
   "source": [
    "# Parameters\n",
    "USER = \"Castrod\"\n",
    "USER_FULL_NAME = \"Daniel Castro\"\n"
   ]
  },
  {
   "cell_type": "markdown",
   "id": "f70a75e2",
   "metadata": {
    "papermill": {
     "duration": 0.00403,
     "end_time": "2021-10-03T09:22:53.371883",
     "exception": false,
     "start_time": "2021-10-03T09:22:53.367853",
     "status": "completed"
    },
    "tags": []
   },
   "source": [
    "# TO DO\n",
    "* papermill\n",
    "* add barcode\n",
    "* check on determined by\n",
    "* document code\n",
    "* add page title\n",
    "* add description field"
   ]
  },
  {
   "cell_type": "code",
   "execution_count": 3,
   "id": "fa4a86e7",
   "metadata": {
    "execution": {
     "iopub.execute_input": "2021-10-03T09:22:53.384862Z",
     "iopub.status.busy": "2021-10-03T09:22:53.384332Z",
     "iopub.status.idle": "2021-10-03T09:22:53.403248Z",
     "shell.execute_reply": "2021-10-03T09:22:53.403531Z"
    },
    "papermill": {
     "duration": 0.027972,
     "end_time": "2021-10-03T09:22:53.403651",
     "exception": false,
     "start_time": "2021-10-03T09:22:53.375679",
     "status": "completed"
    },
    "tags": []
   },
   "outputs": [],
   "source": [
    "import subprocess\n",
    "import sqlite3\n",
    "from fpdf import FPDF\n",
    "import qrcode\n",
    "from datetime import datetime"
   ]
  },
  {
   "cell_type": "code",
   "execution_count": 4,
   "id": "9d03dfb3",
   "metadata": {
    "execution": {
     "iopub.execute_input": "2021-10-03T09:22:53.415359Z",
     "iopub.status.busy": "2021-10-03T09:22:53.414955Z",
     "iopub.status.idle": "2021-10-03T09:22:53.416533Z",
     "shell.execute_reply": "2021-10-03T09:22:53.416798Z"
    },
    "papermill": {
     "duration": 0.00913,
     "end_time": "2021-10-03T09:22:53.416909",
     "exception": false,
     "start_time": "2021-10-03T09:22:53.407779",
     "status": "completed"
    },
    "tags": []
   },
   "outputs": [],
   "source": [
    "def add_taxonomy(obs_dict):\n",
    "    ancestry = obs_dict['ancestry'].split('/')\n",
    "    ancestry.append(obs_dict['taxon'])\n",
    "    for t in ancestry:\n",
    "        sql = f'SELECT rank, name FROM taxons WHERE id == {t}'\n",
    "        cursor = conn.execute(sql)\n",
    "        for row in cursor:\n",
    "            obs_dict[row[0]] = row[1]\n",
    "\n",
    "# obs_dict = {'observed_on': '2021-08-25',\n",
    "#  'taxon': 145541,\n",
    "#  'species_guess': None,\n",
    "#  'longitude': '144.8007189136',\n",
    "#  'latitude': '13.4301838323',\n",
    "#  'project_ids': '[1627]',\n",
    "#  'ancestry': '48460/1/47120/372739/47158/184884/47822/48091/372853/414448/49995/326181/364082/520020'}\n",
    "# add_taxonomy(mydict)\n",
    "# obs_dict"
   ]
  },
  {
   "cell_type": "code",
   "execution_count": 5,
   "id": "664e2975",
   "metadata": {
    "execution": {
     "iopub.execute_input": "2021-10-03T09:22:53.428551Z",
     "iopub.status.busy": "2021-10-03T09:22:53.428194Z",
     "iopub.status.idle": "2021-10-03T09:22:53.430015Z",
     "shell.execute_reply": "2021-10-03T09:22:53.429668Z"
    },
    "papermill": {
     "duration": 0.009119,
     "end_time": "2021-10-03T09:22:53.430108",
     "exception": false,
     "start_time": "2021-10-03T09:22:53.420989",
     "status": "completed"
    },
    "scrolled": false,
    "tags": []
   },
   "outputs": [],
   "source": [
    "def get_label_data():\n",
    "    data_list = []\n",
    "    sql = \"\"\"\n",
    "    SELECT observations.id, name, rank, observed_on, taxon, place_guess, longitude, latitude, description, project_ids, taxons.ancestry\n",
    "    FROM observations, taxons\n",
    "    WHERE \n",
    "       taxons.id == taxon\n",
    "       AND project_ids LIKE '%1627%'\n",
    "       AND observed_on > '2021-08-01';\n",
    "    \"\"\"\n",
    "    cursor = conn.execute(sql)\n",
    "    for r in cursor:\n",
    "        obs_dict = dict(r)\n",
    "        add_taxonomy(obs_dict)\n",
    "        for key in ['ancestry', 'rank', 'name', 'project_ids', 'taxon']:\n",
    "            del obs_dict[key]\n",
    "        data_list.append(obs_dict)        \n",
    "    return data_list\n",
    "\n",
    "# get_label_data()"
   ]
  },
  {
   "cell_type": "code",
   "execution_count": 6,
   "id": "a7e8793e",
   "metadata": {
    "execution": {
     "iopub.execute_input": "2021-10-03T09:22:53.446712Z",
     "iopub.status.busy": "2021-10-03T09:22:53.446309Z",
     "iopub.status.idle": "2021-10-03T09:22:53.447995Z",
     "shell.execute_reply": "2021-10-03T09:22:53.447645Z"
    },
    "papermill": {
     "duration": 0.0139,
     "end_time": "2021-10-03T09:22:53.448088",
     "exception": false,
     "start_time": "2021-10-03T09:22:53.434188",
     "status": "completed"
    },
    "tags": []
   },
   "outputs": [],
   "source": [
    "class PDF(FPDF):\n",
    "    \n",
    "    def add_label(self, x, y, obs):\n",
    "        self.set_xy(x, y)\n",
    "        self.multi_cell(txt=f'iNAT {obs[\"id\"]}', w=LABEL_WIDTH, ln=2, align='L')\n",
    "        #print(f'1:{self.get_x()} {self.get_y()}')\n",
    "        self.multi_cell(txt=obs['place_guess'], w=LABEL_WIDTH, ln=2, align='L')\n",
    "        #print(f'2:{self.get_x()} {self.get_y()}')\n",
    "        \n",
    "        lat = float(obs['latitude'])\n",
    "        lat = round(lat,6)\n",
    "        if (lat > 0):\n",
    "            lat_suffix = '°N'\n",
    "        else:\n",
    "            lat_suffix = '°S'       \n",
    "        \n",
    "        lon = float(obs['longitude'])\n",
    "        lon = round(lon, 6)\n",
    "        if (lon > 0):\n",
    "            lon_suffix = '°E'\n",
    "        else:\n",
    "            lon_suffix = '°W'\n",
    "        txt = f'{lat}{lat_suffix} {lon}{lon_suffix}' \n",
    "        self.multi_cell(txt=txt, w=LABEL_WIDTH, ln=2, align='L')\n",
    "\n",
    "        txt = obs['description']\n",
    "        if len(txt) > 1:\n",
    "            if len(txt) > DESC_MAX_CHARS:\n",
    "                txt = f'{txt[0:DESC_MAX_CHARS]}...'\n",
    "            self.multi_cell(txt=txt, w=LABEL_WIDTH, ln=2, align='L')\n",
    "       \n",
    "        txt = f'Col. {USER_FULL_NAME} {obs[\"observed_on\"]}'\n",
    "        self.multi_cell(txt=txt, w=LABEL_WIDTH, ln=2, align='L')\n",
    "        \n",
    "        self.multi_cell(txt='---', w=LABEL_WIDTH, ln=2, align='L')\n",
    "        \n",
    "        self.multi_cell(txt=f'iNAT {obs[\"id\"]}', w=LABEL_WIDTH, ln=2, align='L')\n",
    "        \n",
    "        if obs.get('order'):\n",
    "            txt = obs['order'].upper()\n",
    "            self.multi_cell(txt=txt, w=LABEL_WIDTH, ln=2, align='L')\n",
    "            \n",
    "        if obs.get('family'):\n",
    "            txt = f'   {obs[\"family\"].upper()}'\n",
    "            self.multi_cell(txt=txt, w=LABEL_WIDTH, ln=2, align='L')\n",
    "            \n",
    "        if obs.get('species'):   # species binomial available\n",
    "            txt = f'     {obs[\"species\"]}'\n",
    "            self.set_font(style=\"I\")\n",
    "            self.multi_cell(txt=txt, w=LABEL_WIDTH, ln=2, align='L')\n",
    "            self.set_font(style=\"\")\n",
    "        else:\n",
    "            if obs.get('genus'):   # only genus available\n",
    "                txt = f'     {obs[\"genus\"]}'\n",
    "                self.set_font(style=\"I\")\n",
    "                self.multi_cell(txt=txt, w=LABEL_WIDTH, ln=2, align='L')\n",
    "                self.set_font(style=\"\")\n",
    "\n",
    "        # Check on this.\n",
    "        txt = f'Det. {USER_FULL_NAME} {obs[\"observed_on\"]}'\n",
    "        self.multi_cell(txt=txt, w=LABEL_WIDTH, ln=2, align='L')\n",
    "        \n",
    "        # barcode\n",
    "        \n",
    "        self.multi_cell(txt='---', w=LABEL_WIDTH, ln=2, align='L')\n",
    "        self.multi_cell(txt=f'iNAT {obs[\"id\"]}', w=LABEL_WIDTH, ln=2, align='L')\n",
    "        url = \"https://www.inaturalist.org/observations/{obs['id']}\"\n",
    "        img = qrcode.make(url)\n",
    "        self.image(img.get_image(), w=0.25)"
   ]
  },
  {
   "cell_type": "code",
   "execution_count": 7,
   "id": "053c8559",
   "metadata": {
    "execution": {
     "iopub.execute_input": "2021-10-03T09:22:53.460923Z",
     "iopub.status.busy": "2021-10-03T09:22:53.460545Z",
     "iopub.status.idle": "2021-10-03T09:22:53.461842Z",
     "shell.execute_reply": "2021-10-03T09:22:53.462106Z"
    },
    "papermill": {
     "duration": 0.009968,
     "end_time": "2021-10-03T09:22:53.462220",
     "exception": false,
     "start_time": "2021-10-03T09:22:53.452252",
     "status": "completed"
    },
    "tags": []
   },
   "outputs": [],
   "source": [
    "def generate_labels():\n",
    "\n",
    "    pdf = PDF(orientation=\"P\", unit=\"in\", format=\"Letter\")\n",
    "    pdf.set_font(family=FONT, size=FONT_SIZE)\n",
    "    \n",
    "    n = len(data_list)\n",
    "    i = 0\n",
    "    pages = 1 + n // (NROWS * NCOLS)\n",
    "    for p in range(pages):\n",
    "        print(f'Adding page {p}')\n",
    "        pdf.add_page()\n",
    "        txt=f'{USER_FULL_NAME}          Page {p+1} of {pages}          {datetime.now()}'\n",
    "        pdf.set_font(size=14)\n",
    "        pdf.multi_cell(txt=txt, w = 6)\n",
    "        pdf.set_font(size=FONT_SIZE)\n",
    "        r = 0\n",
    "        c = 0\n",
    "        for r in range(NROWS):\n",
    "            y = YMIN + r * LABEL_HEIGHT\n",
    "            for c in range(NCOLS):\n",
    "                x = XMIN + c * LABEL_WIDTH\n",
    "#                 print(f'{i} {p} {r} {c} {x} {y}')\n",
    "#                 print(data_list[i])\n",
    "                pdf.add_label(x, y, data_list[i])\n",
    "                i += 1\n",
    "                if i == n:\n",
    "                    print(f\"writing {pdf_filename}\")\n",
    "                    pdf.output(pdf_filename)\n",
    "                    return\n",
    "                \n",
    "#generate_labels()"
   ]
  },
  {
   "cell_type": "code",
   "execution_count": 8,
   "id": "a5fb7366",
   "metadata": {
    "execution": {
     "iopub.execute_input": "2021-10-03T09:22:53.477276Z",
     "iopub.status.busy": "2021-10-03T09:22:53.476869Z",
     "iopub.status.idle": "2021-10-03T09:22:59.991859Z",
     "shell.execute_reply": "2021-10-03T09:22:59.992170Z"
    },
    "papermill": {
     "duration": 6.524718,
     "end_time": "2021-10-03T09:22:59.992293",
     "exception": false,
     "start_time": "2021-10-03T09:22:53.467575",
     "status": "completed"
    },
    "tags": []
   },
   "outputs": [
    {
     "name": "stdout",
     "output_type": "stream",
     "text": [
      "Downloading data from iNaturalist. This may take a few minutes.\n"
     ]
    },
    {
     "name": "stdout",
     "output_type": "stream",
     "text": [
      "CompletedProcess(args=['inaturalist-to-sqlite', 'Daniel_Castro.db', 'Castrod'], returncode=0)\n",
      "Adding page 0\n",
      "writing Daniel_Castro.pdf\n",
      "FINISHED\n"
     ]
    }
   ],
   "source": [
    "# MAIN\n",
    "\n",
    "# Download USER observations from the iNaturalist Insects of Micronesia Project as an SQLite database\n",
    "\n",
    "print('Downloading data from iNaturalist. This may take a few minutes.')\n",
    "db_filename = f\"{USER_FULL_NAME.replace(' ', '_')}.db\"\n",
    "result = subprocess.run(['inaturalist-to-sqlite', db_filename, USER]) \n",
    "print(result)\n",
    "\n",
    "# Open the database and extract label data\n",
    "\n",
    "conn = sqlite3.connect(db_filename)\n",
    "conn.row_factory = sqlite3.Row\n",
    "data_list = get_label_data()\n",
    "\n",
    "# Generate labels\n",
    "\n",
    "pdf_filename = db_filename.replace('.db', '.pdf')\n",
    "generate_labels()\n",
    "\n",
    "print('FINISHED')"
   ]
  }
 ],
 "metadata": {
  "kernelspec": {
   "display_name": "Python 3",
   "language": "python",
   "name": "python3"
  },
  "language_info": {
   "codemirror_mode": {
    "name": "ipython",
    "version": 3
   },
   "file_extension": ".py",
   "mimetype": "text/x-python",
   "name": "python",
   "nbconvert_exporter": "python",
   "pygments_lexer": "ipython3",
   "version": "3.8.8"
  },
  "papermill": {
   "default_parameters": {},
   "duration": 7.624359,
   "end_time": "2021-10-03T09:23:00.203816",
   "environment_variables": {},
   "exception": null,
   "input_path": "inat_labels.ipynb",
   "output_path": "Daniel_Castro.ipynb",
   "parameters": {
    "USER": "Castrod",
    "USER_FULL_NAME": "Daniel Castro"
   },
   "start_time": "2021-10-03T09:22:52.579457",
   "version": "2.3.3"
  }
 },
 "nbformat": 4,
 "nbformat_minor": 5
}